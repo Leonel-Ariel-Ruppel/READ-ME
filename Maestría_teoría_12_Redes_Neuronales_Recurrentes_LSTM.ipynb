{
  "cells": [
    {
      "cell_type": "markdown",
      "metadata": {
        "id": "view-in-github",
        "colab_type": "text"
      },
      "source": [
        "<a href=\"https://colab.research.google.com/github/Leonel-Ariel-Ruppel/READ-ME/blob/main/Maestr%C3%ADa_teor%C3%ADa_12_Redes_Neuronales_Recurrentes_LSTM.ipynb\" target=\"_parent\"><img src=\"https://colab.research.google.com/assets/colab-badge.svg\" alt=\"Open In Colab\"/></a>"
      ]
    },
    {
      "cell_type": "markdown",
      "metadata": {
        "id": "XNsNw03Fw12j"
      },
      "source": [
        "<a href=\"https://colab.research.google.com/github/dieguito1331/cienciaDatos/blob/master/maestria/teoria/12 - Redes Neuronales Recurrentes - LSTM.ipynb\" target=\"_parent\"><img src=\"https://colab.research.google.com/assets/colab-badge.svg\" alt=\"Open In Colab\"/></a>"
      ]
    },
    {
      "cell_type": "markdown",
      "metadata": {
        "id": "50SnzIVMuZc5"
      },
      "source": [
        "# Redes Neuronales Recurrentes (RNN)"
      ]
    },
    {
      "cell_type": "markdown",
      "metadata": {
        "id": "xaJ3O60QuYSd"
      },
      "source": [
        "\n",
        "Las redes neuronales recurrentes o RNN (Recurrent Neural Networks) son algoritmos que sirven para datos secuenciales muy utilizados en Natural Language Processing (NLP).\n",
        "\n",
        "Se trata de algoritmos que tienen la capacidad de recordar sus entradas, debido a la memoria interna que poseen, lo que hace que se conviertan en una excelente opción en la solución de problemas de aprendizaje automático que involucren datos secuenciales.\n",
        "\n",
        "La arquitectura de las redes neuronales recurrentes facilita que el programa o aplicación desarrollado con ellas pueda recordar y olvidar la información que procesa. De esta manera, este tipo de modelo de machine learning es capaz de recordar datos procesados al principio de la secuenciación para asociarlos con datos nuevos que va analizando.\n",
        "\n",
        "Esto hace que las redes neuronales recurrentes también sean especialmente útiles para la creación de texto. Y es que, son capaces de analizar fragmentos de texto y generar nuevos contenidos a partir de ello. Así, una de sus aplicaciones la está encontrando en el desarrollo de aplicaciones de texto predictivo.\n",
        "\n",
        "Para ver una explicación completa de las redes neuronales LSTM haga click [aqui](https://youtu.be/1BubAvTVBYs)"
      ]
    },
    {
      "cell_type": "markdown",
      "source": [
        "##Predicción de cotizaciones de AAPL"
      ],
      "metadata": {
        "id": "V4-KRcYoQ1ZF"
      }
    },
    {
      "cell_type": "code",
      "execution_count": null,
      "metadata": {
        "id": "KwqdMRLmw1Zj"
      },
      "outputs": [],
      "source": [
        "import pandas as pd\n",
        "import numpy as np\n",
        "import os\n",
        "from google.colab import drive\n",
        "import matplotlib.pyplot as plt\n",
        "\n",
        "from sklearn.preprocessing import MinMaxScaler\n",
        "\n",
        "from keras.models import Sequential\n",
        "from keras.layers import Dense, LSTM\n"
      ]
    },
    {
      "cell_type": "markdown",
      "metadata": {
        "id": "sF2tqqpi4n_q"
      },
      "source": [
        "### Levantamos el archivo y dividimos en train y test usando train los datos del 2016 y para test 2017"
      ]
    },
    {
      "cell_type": "code",
      "execution_count": null,
      "metadata": {
        "colab": {
          "base_uri": "https://localhost:8080/",
          "height": 206
        },
        "id": "ad34m8t90keF",
        "outputId": "18562969-1624-4535-9d27-3ba7145e45c0"
      },
      "outputs": [
        {
          "output_type": "execute_result",
          "data": {
            "text/plain": [
              "         Date   Open   High    Low  Close     Volume  Name\n",
              "0  2006-01-03  10.34  10.68  10.32  10.68  201853036  AAPL\n",
              "1  2006-01-04  10.73  10.85  10.64  10.71  155225609  AAPL\n",
              "2  2006-01-05  10.69  10.70  10.54  10.63  112396081  AAPL\n",
              "3  2006-01-06  10.75  10.96  10.65  10.90  176139334  AAPL\n",
              "4  2006-01-09  10.96  11.03  10.82  10.86  168861224  AAPL"
            ],
            "text/html": [
              "\n",
              "  <div id=\"df-d9adf9af-1eb7-4a10-8790-8ef3f89433c1\" class=\"colab-df-container\">\n",
              "    <div>\n",
              "<style scoped>\n",
              "    .dataframe tbody tr th:only-of-type {\n",
              "        vertical-align: middle;\n",
              "    }\n",
              "\n",
              "    .dataframe tbody tr th {\n",
              "        vertical-align: top;\n",
              "    }\n",
              "\n",
              "    .dataframe thead th {\n",
              "        text-align: right;\n",
              "    }\n",
              "</style>\n",
              "<table border=\"1\" class=\"dataframe\">\n",
              "  <thead>\n",
              "    <tr style=\"text-align: right;\">\n",
              "      <th></th>\n",
              "      <th>Date</th>\n",
              "      <th>Open</th>\n",
              "      <th>High</th>\n",
              "      <th>Low</th>\n",
              "      <th>Close</th>\n",
              "      <th>Volume</th>\n",
              "      <th>Name</th>\n",
              "    </tr>\n",
              "  </thead>\n",
              "  <tbody>\n",
              "    <tr>\n",
              "      <th>0</th>\n",
              "      <td>2006-01-03</td>\n",
              "      <td>10.34</td>\n",
              "      <td>10.68</td>\n",
              "      <td>10.32</td>\n",
              "      <td>10.68</td>\n",
              "      <td>201853036</td>\n",
              "      <td>AAPL</td>\n",
              "    </tr>\n",
              "    <tr>\n",
              "      <th>1</th>\n",
              "      <td>2006-01-04</td>\n",
              "      <td>10.73</td>\n",
              "      <td>10.85</td>\n",
              "      <td>10.64</td>\n",
              "      <td>10.71</td>\n",
              "      <td>155225609</td>\n",
              "      <td>AAPL</td>\n",
              "    </tr>\n",
              "    <tr>\n",
              "      <th>2</th>\n",
              "      <td>2006-01-05</td>\n",
              "      <td>10.69</td>\n",
              "      <td>10.70</td>\n",
              "      <td>10.54</td>\n",
              "      <td>10.63</td>\n",
              "      <td>112396081</td>\n",
              "      <td>AAPL</td>\n",
              "    </tr>\n",
              "    <tr>\n",
              "      <th>3</th>\n",
              "      <td>2006-01-06</td>\n",
              "      <td>10.75</td>\n",
              "      <td>10.96</td>\n",
              "      <td>10.65</td>\n",
              "      <td>10.90</td>\n",
              "      <td>176139334</td>\n",
              "      <td>AAPL</td>\n",
              "    </tr>\n",
              "    <tr>\n",
              "      <th>4</th>\n",
              "      <td>2006-01-09</td>\n",
              "      <td>10.96</td>\n",
              "      <td>11.03</td>\n",
              "      <td>10.82</td>\n",
              "      <td>10.86</td>\n",
              "      <td>168861224</td>\n",
              "      <td>AAPL</td>\n",
              "    </tr>\n",
              "  </tbody>\n",
              "</table>\n",
              "</div>\n",
              "    <div class=\"colab-df-buttons\">\n",
              "\n",
              "  <div class=\"colab-df-container\">\n",
              "    <button class=\"colab-df-convert\" onclick=\"convertToInteractive('df-d9adf9af-1eb7-4a10-8790-8ef3f89433c1')\"\n",
              "            title=\"Convert this dataframe to an interactive table.\"\n",
              "            style=\"display:none;\">\n",
              "\n",
              "  <svg xmlns=\"http://www.w3.org/2000/svg\" height=\"24px\" viewBox=\"0 -960 960 960\">\n",
              "    <path d=\"M120-120v-720h720v720H120Zm60-500h600v-160H180v160Zm220 220h160v-160H400v160Zm0 220h160v-160H400v160ZM180-400h160v-160H180v160Zm440 0h160v-160H620v160ZM180-180h160v-160H180v160Zm440 0h160v-160H620v160Z\"/>\n",
              "  </svg>\n",
              "    </button>\n",
              "\n",
              "  <style>\n",
              "    .colab-df-container {\n",
              "      display:flex;\n",
              "      gap: 12px;\n",
              "    }\n",
              "\n",
              "    .colab-df-convert {\n",
              "      background-color: #E8F0FE;\n",
              "      border: none;\n",
              "      border-radius: 50%;\n",
              "      cursor: pointer;\n",
              "      display: none;\n",
              "      fill: #1967D2;\n",
              "      height: 32px;\n",
              "      padding: 0 0 0 0;\n",
              "      width: 32px;\n",
              "    }\n",
              "\n",
              "    .colab-df-convert:hover {\n",
              "      background-color: #E2EBFA;\n",
              "      box-shadow: 0px 1px 2px rgba(60, 64, 67, 0.3), 0px 1px 3px 1px rgba(60, 64, 67, 0.15);\n",
              "      fill: #174EA6;\n",
              "    }\n",
              "\n",
              "    .colab-df-buttons div {\n",
              "      margin-bottom: 4px;\n",
              "    }\n",
              "\n",
              "    [theme=dark] .colab-df-convert {\n",
              "      background-color: #3B4455;\n",
              "      fill: #D2E3FC;\n",
              "    }\n",
              "\n",
              "    [theme=dark] .colab-df-convert:hover {\n",
              "      background-color: #434B5C;\n",
              "      box-shadow: 0px 1px 3px 1px rgba(0, 0, 0, 0.15);\n",
              "      filter: drop-shadow(0px 1px 2px rgba(0, 0, 0, 0.3));\n",
              "      fill: #FFFFFF;\n",
              "    }\n",
              "  </style>\n",
              "\n",
              "    <script>\n",
              "      const buttonEl =\n",
              "        document.querySelector('#df-d9adf9af-1eb7-4a10-8790-8ef3f89433c1 button.colab-df-convert');\n",
              "      buttonEl.style.display =\n",
              "        google.colab.kernel.accessAllowed ? 'block' : 'none';\n",
              "\n",
              "      async function convertToInteractive(key) {\n",
              "        const element = document.querySelector('#df-d9adf9af-1eb7-4a10-8790-8ef3f89433c1');\n",
              "        const dataTable =\n",
              "          await google.colab.kernel.invokeFunction('convertToInteractive',\n",
              "                                                    [key], {});\n",
              "        if (!dataTable) return;\n",
              "\n",
              "        const docLinkHtml = 'Like what you see? Visit the ' +\n",
              "          '<a target=\"_blank\" href=https://colab.research.google.com/notebooks/data_table.ipynb>data table notebook</a>'\n",
              "          + ' to learn more about interactive tables.';\n",
              "        element.innerHTML = '';\n",
              "        dataTable['output_type'] = 'display_data';\n",
              "        await google.colab.output.renderOutput(dataTable, element);\n",
              "        const docLink = document.createElement('div');\n",
              "        docLink.innerHTML = docLinkHtml;\n",
              "        element.appendChild(docLink);\n",
              "      }\n",
              "    </script>\n",
              "  </div>\n",
              "\n",
              "\n",
              "<div id=\"df-c3d23c37-4154-45d9-986a-d31ba83737a1\">\n",
              "  <button class=\"colab-df-quickchart\" onclick=\"quickchart('df-c3d23c37-4154-45d9-986a-d31ba83737a1')\"\n",
              "            title=\"Suggest charts\"\n",
              "            style=\"display:none;\">\n",
              "\n",
              "<svg xmlns=\"http://www.w3.org/2000/svg\" height=\"24px\"viewBox=\"0 0 24 24\"\n",
              "     width=\"24px\">\n",
              "    <g>\n",
              "        <path d=\"M19 3H5c-1.1 0-2 .9-2 2v14c0 1.1.9 2 2 2h14c1.1 0 2-.9 2-2V5c0-1.1-.9-2-2-2zM9 17H7v-7h2v7zm4 0h-2V7h2v10zm4 0h-2v-4h2v4z\"/>\n",
              "    </g>\n",
              "</svg>\n",
              "  </button>\n",
              "\n",
              "<style>\n",
              "  .colab-df-quickchart {\n",
              "      --bg-color: #E8F0FE;\n",
              "      --fill-color: #1967D2;\n",
              "      --hover-bg-color: #E2EBFA;\n",
              "      --hover-fill-color: #174EA6;\n",
              "      --disabled-fill-color: #AAA;\n",
              "      --disabled-bg-color: #DDD;\n",
              "  }\n",
              "\n",
              "  [theme=dark] .colab-df-quickchart {\n",
              "      --bg-color: #3B4455;\n",
              "      --fill-color: #D2E3FC;\n",
              "      --hover-bg-color: #434B5C;\n",
              "      --hover-fill-color: #FFFFFF;\n",
              "      --disabled-bg-color: #3B4455;\n",
              "      --disabled-fill-color: #666;\n",
              "  }\n",
              "\n",
              "  .colab-df-quickchart {\n",
              "    background-color: var(--bg-color);\n",
              "    border: none;\n",
              "    border-radius: 50%;\n",
              "    cursor: pointer;\n",
              "    display: none;\n",
              "    fill: var(--fill-color);\n",
              "    height: 32px;\n",
              "    padding: 0;\n",
              "    width: 32px;\n",
              "  }\n",
              "\n",
              "  .colab-df-quickchart:hover {\n",
              "    background-color: var(--hover-bg-color);\n",
              "    box-shadow: 0 1px 2px rgba(60, 64, 67, 0.3), 0 1px 3px 1px rgba(60, 64, 67, 0.15);\n",
              "    fill: var(--button-hover-fill-color);\n",
              "  }\n",
              "\n",
              "  .colab-df-quickchart-complete:disabled,\n",
              "  .colab-df-quickchart-complete:disabled:hover {\n",
              "    background-color: var(--disabled-bg-color);\n",
              "    fill: var(--disabled-fill-color);\n",
              "    box-shadow: none;\n",
              "  }\n",
              "\n",
              "  .colab-df-spinner {\n",
              "    border: 2px solid var(--fill-color);\n",
              "    border-color: transparent;\n",
              "    border-bottom-color: var(--fill-color);\n",
              "    animation:\n",
              "      spin 1s steps(1) infinite;\n",
              "  }\n",
              "\n",
              "  @keyframes spin {\n",
              "    0% {\n",
              "      border-color: transparent;\n",
              "      border-bottom-color: var(--fill-color);\n",
              "      border-left-color: var(--fill-color);\n",
              "    }\n",
              "    20% {\n",
              "      border-color: transparent;\n",
              "      border-left-color: var(--fill-color);\n",
              "      border-top-color: var(--fill-color);\n",
              "    }\n",
              "    30% {\n",
              "      border-color: transparent;\n",
              "      border-left-color: var(--fill-color);\n",
              "      border-top-color: var(--fill-color);\n",
              "      border-right-color: var(--fill-color);\n",
              "    }\n",
              "    40% {\n",
              "      border-color: transparent;\n",
              "      border-right-color: var(--fill-color);\n",
              "      border-top-color: var(--fill-color);\n",
              "    }\n",
              "    60% {\n",
              "      border-color: transparent;\n",
              "      border-right-color: var(--fill-color);\n",
              "    }\n",
              "    80% {\n",
              "      border-color: transparent;\n",
              "      border-right-color: var(--fill-color);\n",
              "      border-bottom-color: var(--fill-color);\n",
              "    }\n",
              "    90% {\n",
              "      border-color: transparent;\n",
              "      border-bottom-color: var(--fill-color);\n",
              "    }\n",
              "  }\n",
              "</style>\n",
              "\n",
              "  <script>\n",
              "    async function quickchart(key) {\n",
              "      const quickchartButtonEl =\n",
              "        document.querySelector('#' + key + ' button');\n",
              "      quickchartButtonEl.disabled = true;  // To prevent multiple clicks.\n",
              "      quickchartButtonEl.classList.add('colab-df-spinner');\n",
              "      try {\n",
              "        const charts = await google.colab.kernel.invokeFunction(\n",
              "            'suggestCharts', [key], {});\n",
              "      } catch (error) {\n",
              "        console.error('Error during call to suggestCharts:', error);\n",
              "      }\n",
              "      quickchartButtonEl.classList.remove('colab-df-spinner');\n",
              "      quickchartButtonEl.classList.add('colab-df-quickchart-complete');\n",
              "    }\n",
              "    (() => {\n",
              "      let quickchartButtonEl =\n",
              "        document.querySelector('#df-c3d23c37-4154-45d9-986a-d31ba83737a1 button');\n",
              "      quickchartButtonEl.style.display =\n",
              "        google.colab.kernel.accessAllowed ? 'block' : 'none';\n",
              "    })();\n",
              "  </script>\n",
              "</div>\n",
              "\n",
              "    </div>\n",
              "  </div>\n"
            ],
            "application/vnd.google.colaboratory.intrinsic+json": {
              "type": "dataframe",
              "variable_name": "data",
              "summary": "{\n  \"name\": \"data\",\n  \"rows\": 3019,\n  \"fields\": [\n    {\n      \"column\": \"Date\",\n      \"properties\": {\n        \"dtype\": \"object\",\n        \"num_unique_values\": 3019,\n        \"samples\": [\n          \"2011-08-11\",\n          \"2012-03-20\",\n          \"2006-10-23\"\n        ],\n        \"semantic_type\": \"\",\n        \"description\": \"\"\n      }\n    },\n    {\n      \"column\": \"Open\",\n      \"properties\": {\n        \"dtype\": \"number\",\n        \"std\": 44.52492682116733,\n        \"min\": 7.39,\n        \"max\": 175.11,\n        \"num_unique_values\": 2630,\n        \"samples\": [\n          12.18,\n          20.62,\n          35.95\n        ],\n        \"semantic_type\": \"\",\n        \"description\": \"\"\n      }\n    },\n    {\n      \"column\": \"High\",\n      \"properties\": {\n        \"dtype\": \"number\",\n        \"std\": 44.81177185659478,\n        \"min\": 7.56,\n        \"max\": 177.2,\n        \"num_unique_values\": 2579,\n        \"samples\": [\n          34.56,\n          121.39,\n          30.13\n        ],\n        \"semantic_type\": \"\",\n        \"description\": \"\"\n      }\n    },\n    {\n      \"column\": \"Low\",\n      \"properties\": {\n        \"dtype\": \"number\",\n        \"std\": 44.2308293711153,\n        \"min\": 7.17,\n        \"max\": 174.86,\n        \"num_unique_values\": 2575,\n        \"samples\": [\n          73.38,\n          55.63,\n          25.98\n        ],\n        \"semantic_type\": \"\",\n        \"description\": \"\"\n      }\n    },\n    {\n      \"column\": \"Close\",\n      \"properties\": {\n        \"dtype\": \"number\",\n        \"std\": 44.53644821232358,\n        \"min\": 7.24,\n        \"max\": 176.42,\n        \"num_unique_values\": 2579,\n        \"samples\": [\n          33.69,\n          121.63,\n          30.63\n        ],\n        \"semantic_type\": \"\",\n        \"description\": \"\"\n      }\n    },\n    {\n      \"column\": \"Volume\",\n      \"properties\": {\n        \"dtype\": \"number\",\n        \"std\": 101855966,\n        \"min\": 11475922,\n        \"max\": 843264044,\n        \"num_unique_values\": 3019,\n        \"samples\": [\n          185491110,\n          204167033,\n          208175492\n        ],\n        \"semantic_type\": \"\",\n        \"description\": \"\"\n      }\n    },\n    {\n      \"column\": \"Name\",\n      \"properties\": {\n        \"dtype\": \"category\",\n        \"num_unique_values\": 1,\n        \"samples\": [\n          \"AAPL\"\n        ],\n        \"semantic_type\": \"\",\n        \"description\": \"\"\n      }\n    }\n  ]\n}"
            }
          },
          "metadata": {},
          "execution_count": 2
        }
      ],
      "source": [
        "data = pd.read_csv(\"https://raw.githubusercontent.com/codificandobits/Prediccion_de_acciones_en_la_bolsa_con_redes_LSTM/master/AAPL_2006-01-01_to_2018-01-01.csv\") #[:100]\n",
        "#data = pd.read_csv(\"{}/AAPL_2006-01-01_to_2018-01-01.csv\".format(contentFolder), index_col='Date', parse_dates=['Date'])\n",
        "data.head()"
      ]
    },
    {
      "cell_type": "code",
      "execution_count": null,
      "metadata": {
        "colab": {
          "base_uri": "https://localhost:8080/"
        },
        "id": "Vg8ev-7L1MX-",
        "outputId": "157c4e26-9406-4a03-b9cd-3398bfdaf688"
      },
      "outputs": [
        {
          "output_type": "execute_result",
          "data": {
            "text/plain": [
              "3019"
            ]
          },
          "metadata": {},
          "execution_count": 3
        }
      ],
      "source": [
        "len(data)"
      ]
    },
    {
      "cell_type": "code",
      "execution_count": null,
      "metadata": {
        "id": "UgBFSBYF1hDU"
      },
      "outputs": [],
      "source": [
        "#train-test split\n",
        "train = data[:2016].iloc[:,4:5] #traigo todas las filas hasta el año 2016 y la 5ta columna que es Close.\n",
        "test = data[2016:].iloc[:,4:5]"
      ]
    },
    {
      "cell_type": "code",
      "source": [
        "len(train)"
      ],
      "metadata": {
        "colab": {
          "base_uri": "https://localhost:8080/"
        },
        "id": "rGKpH1iJNnli",
        "outputId": "1d8115d6-ed44-44af-d75c-55fc5864bbf7"
      },
      "execution_count": null,
      "outputs": [
        {
          "output_type": "execute_result",
          "data": {
            "text/plain": [
              "2016"
            ]
          },
          "metadata": {},
          "execution_count": 5
        }
      ]
    },
    {
      "cell_type": "code",
      "source": [
        "len(test)"
      ],
      "metadata": {
        "colab": {
          "base_uri": "https://localhost:8080/"
        },
        "id": "NgxWPDWJkB5F",
        "outputId": "f803f08e-1c6f-4ea3-ca84-6c24af1bf83e"
      },
      "execution_count": null,
      "outputs": [
        {
          "output_type": "execute_result",
          "data": {
            "text/plain": [
              "1003"
            ]
          },
          "metadata": {},
          "execution_count": 6
        }
      ]
    },
    {
      "cell_type": "markdown",
      "metadata": {
        "id": "VCVUsE0C20Lf"
      },
      "source": [
        "### Graficamos el valor de la accion en el tiempo"
      ]
    },
    {
      "cell_type": "code",
      "execution_count": null,
      "metadata": {
        "colab": {
          "base_uri": "https://localhost:8080/",
          "height": 430
        },
        "id": "AlJaiHu81061",
        "outputId": "579eb6a5-6654-4a65-c063-85a5c5d25c03"
      },
      "outputs": [
        {
          "output_type": "display_data",
          "data": {
            "text/plain": [
              "<Figure size 640x480 with 1 Axes>"
            ],
            "image/png": "[encoded data removed]"
          },
          "metadata": {}
        }
      ],
      "source": [
        "train['Close'].plot(legend=True)\n",
        "test['Close'].plot(legend=True)\n",
        "plt.legend(['Entrenamiento (2006-2016)', 'Validación (2017)'])\n",
        "plt.show()\n"
      ]
    },
    {
      "cell_type": "markdown",
      "metadata": {
        "id": "rPF_p2Rj4yj8"
      },
      "source": [
        "### Normalizacion de los datos\n",
        "Si observamos los datos de la accion podemos ver que la misma posee un comportamiento creciente"
      ]
    },
    {
      "cell_type": "code",
      "execution_count": null,
      "metadata": {
        "id": "zzp1oqmB2nDk"
      },
      "outputs": [],
      "source": [
        "# Normalización del set de entrenamiento\n",
        "sc = MinMaxScaler(feature_range=(0,1)) #el output de este scaler va a estar entre 0 y 1 (X-Xmin)/(Xmax-Xmin)\n",
        "train_scaled = sc.fit_transform(train) #aplico el scaler a los datos de entrenamiento."
      ]
    },
    {
      "cell_type": "code",
      "execution_count": null,
      "metadata": {
        "colab": {
          "base_uri": "https://localhost:8080/",
          "height": 430
        },
        "id": "QASBJu1R31hj",
        "outputId": "f288c7c2-25be-4f71-c6b0-c4dc5305fd76"
      },
      "outputs": [
        {
          "output_type": "display_data",
          "data": {
            "text/plain": [
              "<Figure size 640x480 with 1 Axes>"
            ],
            "image/png": "[encoded data removed]"
          },
          "metadata": {}
        }
      ],
      "source": [
        "#datos luego de aplicar scaler:\n",
        "aux = train\n",
        "aux[\"close_scaled\"] = train_scaled\n",
        "aux[\"close_scaled\"].plot(legend=True)\n",
        "plt.show()\n",
        "del aux"
      ]
    },
    {
      "cell_type": "markdown",
      "metadata": {
        "id": "83JNqUA86K9A"
      },
      "source": [
        "#Armamos los datos para entrenar.\n",
        "Armamos los datasets X_train e y_train.\n",
        "Para entrenar la Red LSTM en nuestro caso tomaremos bloques de 60 datos consecutivos y la idea es que se pueda predecir el siguiente valor.\n",
        "\n",
        "Los bloques de 60 datos se almacenan en X_train y el dato a predecir se almacenara en y_train\n",
        "\n"
      ]
    },
    {
      "cell_type": "code",
      "source": [
        "m = len(train_scaled)\n",
        "m"
      ],
      "metadata": {
        "colab": {
          "base_uri": "https://localhost:8080/"
        },
        "id": "8T00aVwkiu3i",
        "outputId": "feed9f37-4fff-4f47-bbed-cb140baf271f"
      },
      "execution_count": null,
      "outputs": [
        {
          "output_type": "execute_result",
          "data": {
            "text/plain": [
              "2016"
            ]
          },
          "metadata": {},
          "execution_count": 12
        }
      ]
    },
    {
      "cell_type": "markdown",
      "source": [
        "What are timesteps? Timesteps specify how many previous observations should be considered when the recurrent neural network makes a prediction about the current observation."
      ],
      "metadata": {
        "id": "026uPRMIzK2k"
      }
    },
    {
      "cell_type": "code",
      "execution_count": null,
      "metadata": {
        "id": "-3KZAM2W34Tt"
      },
      "outputs": [],
      "source": [
        "time_step = 60 #X de a bloques de 60 cotizaciones y el valor de y es la cotizacion 61. aprox estamos usando los previos 3 meses para predecir el valor.\n",
        "indexes = []\n",
        "X_train = []\n",
        "y_train = [] #Each element of y_train is the value that follows the sequence in X_train\n",
        "m = len(train_scaled)\n",
        "ventana = 0\n",
        "for i in range(time_step,m - ventana): #el loop es entre el valor de time_step, es decir 60 y el valor de (m - ventana), 2016\n",
        "  X_train.append(train_scaled[i-time_step:i,0]) #me va agregando los 60 valores en un bloque\n",
        "  y_train.append(train_scaled[i+ventana,0]) #me va agregando los valores del numero 61 en una lista.\n",
        "  indexes.append(train.index[i+ventana])\n",
        "X_train, Y_train = np.array(X_train), np.array(y_train) #convertidos en vectores"
      ]
    },
    {
      "cell_type": "code",
      "source": [
        "print(X_train.shape)"
      ],
      "metadata": {
        "colab": {
          "base_uri": "https://localhost:8080/"
        },
        "id": "lj2spJug0xP9",
        "outputId": "ee34ff7d-252a-4d9b-f083-fa1b40d4ddf4"
      },
      "execution_count": null,
      "outputs": [
        {
          "output_type": "stream",
          "name": "stdout",
          "text": [
            "(1956, 60)\n"
          ]
        }
      ]
    },
    {
      "cell_type": "code",
      "source": [
        "# Reshape X_train para que se ajuste al modelo en Keras\n",
        "#1956 x 60 x 1 \"samples x time steps x features\" porq lo pide Keras  features es 1 porq estamos usando solo la columna de close.\n",
        "X_train = np.reshape(X_train, (X_train.shape[0], X_train.shape[1], 1))"
      ],
      "metadata": {
        "id": "omDeKjQ01WnM"
      },
      "execution_count": null,
      "outputs": []
    },
    {
      "cell_type": "code",
      "source": [
        "print(X_train.shape) #son 1956 bloques de 60 precios."
      ],
      "metadata": {
        "colab": {
          "base_uri": "https://localhost:8080/"
        },
        "id": "TWfJ4x_61vJm",
        "outputId": "5c5996b4-d9a8-4f0a-f880-a77ad111ac4d"
      },
      "execution_count": null,
      "outputs": [
        {
          "output_type": "stream",
          "name": "stdout",
          "text": [
            "(1956, 60, 1)\n"
          ]
        }
      ]
    },
    {
      "cell_type": "code",
      "source": [
        "X_train"
      ],
      "metadata": {
        "colab": {
          "base_uri": "https://localhost:8080/"
        },
        "id": "JvsEnbr7sV0_",
        "outputId": "12e5b3fd-5374-45a8-ec28-8982605677f3"
      },
      "execution_count": null,
      "outputs": [
        {
          "output_type": "execute_result",
          "data": {
            "text/plain": [
              "array([[[0.0369654 ],\n",
              "        [0.03728777],\n",
              "        [0.03642811],\n",
              "        ...,\n",
              "        [0.01353965],\n",
              "        [0.01235762],\n",
              "        [0.01783795]],\n",
              "\n",
              "       [[0.03728777],\n",
              "        [0.03642811],\n",
              "        [0.03932946],\n",
              "        ...,\n",
              "        [0.01235762],\n",
              "        [0.01783795],\n",
              "        [0.0184827 ]],\n",
              "\n",
              "       [[0.03642811],\n",
              "        [0.03932946],\n",
              "        [0.03889963],\n",
              "        ...,\n",
              "        [0.01783795],\n",
              "        [0.0184827 ],\n",
              "        [0.0184827 ]],\n",
              "\n",
              "       ...,\n",
              "\n",
              "       [[0.66054159],\n",
              "        [0.66913819],\n",
              "        [0.67386632],\n",
              "        ...,\n",
              "        [0.77347948],\n",
              "        [0.78347303],\n",
              "        [0.77133032]],\n",
              "\n",
              "       [[0.66913819],\n",
              "        [0.67386632],\n",
              "        [0.67870191],\n",
              "        ...,\n",
              "        [0.78347303],\n",
              "        [0.77133032],\n",
              "        [0.75263271]],\n",
              "\n",
              "       [[0.67386632],\n",
              "        [0.67870191],\n",
              "        [0.68364496],\n",
              "        ...,\n",
              "        [0.77133032],\n",
              "        [0.75263271],\n",
              "        [0.75714593]]])"
            ]
          },
          "metadata": {},
          "execution_count": 19
        }
      ]
    },
    {
      "cell_type": "markdown",
      "metadata": {
        "id": "U2IKUq2C-Pnd"
      },
      "source": [
        "### Creamos el modelo y lo entrenamos\n",
        "El modelo constara de:\n",
        "* Capa de entrada con 60 neuronas (ventana de tiempo que usamos para entrenar)\n",
        "* Una capa LSTM de 50 neuronas\n",
        "* Una capa de Salida de 1 neurona"
      ]
    },
    {
      "cell_type": "code",
      "execution_count": null,
      "metadata": {
        "colab": {
          "base_uri": "https://localhost:8080/"
        },
        "id": "TswQ9ulc7sNd",
        "outputId": "62cf64a7-4eeb-4149-a240-6dd12e280c0d"
      },
      "outputs": [
        {
          "output_type": "stream",
          "name": "stdout",
          "text": [
            "Epoch 1/20\n",
            "62/62 [==============================] - 3s 22ms/step - loss: 0.0135\n",
            "Epoch 2/20\n",
            "62/62 [==============================] - 2s 28ms/step - loss: 0.0014\n",
            "Epoch 3/20\n",
            "62/62 [==============================] - 2s 35ms/step - loss: 9.9616e-04\n",
            "Epoch 4/20\n",
            "62/62 [==============================] - 1s 22ms/step - loss: 8.2166e-04\n",
            "Epoch 5/20\n",
            "62/62 [==============================] - 1s 23ms/step - loss: 6.7226e-04\n",
            "Epoch 6/20\n",
            "62/62 [==============================] - 1s 22ms/step - loss: 5.9460e-04\n",
            "Epoch 7/20\n",
            "62/62 [==============================] - 1s 22ms/step - loss: 5.7735e-04\n",
            "Epoch 8/20\n",
            "62/62 [==============================] - 1s 23ms/step - loss: 5.1630e-04\n",
            "Epoch 9/20\n",
            "62/62 [==============================] - 1s 22ms/step - loss: 4.6827e-04\n",
            "Epoch 10/20\n",
            "62/62 [==============================] - 2s 25ms/step - loss: 4.7682e-04\n",
            "Epoch 11/20\n",
            "62/62 [==============================] - 2s 36ms/step - loss: 3.9366e-04\n",
            "Epoch 12/20\n",
            "62/62 [==============================] - 2s 25ms/step - loss: 4.3446e-04\n",
            "Epoch 13/20\n",
            "62/62 [==============================] - 1s 23ms/step - loss: 3.8821e-04\n",
            "Epoch 14/20\n",
            "62/62 [==============================] - 1s 23ms/step - loss: 3.8736e-04\n",
            "Epoch 15/20\n",
            "62/62 [==============================] - 1s 23ms/step - loss: 3.4538e-04\n",
            "Epoch 16/20\n",
            "62/62 [==============================] - 1s 23ms/step - loss: 3.5022e-04\n",
            "Epoch 17/20\n",
            "62/62 [==============================] - 1s 23ms/step - loss: 3.2908e-04\n",
            "Epoch 18/20\n",
            "62/62 [==============================] - 1s 23ms/step - loss: 3.4154e-04\n",
            "Epoch 19/20\n",
            "62/62 [==============================] - 2s 32ms/step - loss: 2.8252e-04\n",
            "Epoch 20/20\n",
            "62/62 [==============================] - 2s 30ms/step - loss: 2.9103e-04\n"
          ]
        },
        {
          "output_type": "execute_result",
          "data": {
            "text/plain": [
              "<keras.src.callbacks.History at 0x7c24d8187f40>"
            ]
          },
          "metadata": {},
          "execution_count": 20
        }
      ],
      "source": [
        "dim_entrada = (X_train.shape[1],1)  #60 x 1\n",
        "dim_salida = 1\n",
        "na = 50 #cantidad de neuronas en la capa oculta de LSTM.  Se puede ir probando con diferentes valores para mejorar el performance del modelo.\n",
        "\n",
        "modelo = Sequential()\n",
        "modelo.add(LSTM(units=na, input_shape=dim_entrada))\n",
        "modelo.add(Dense(units=dim_salida))\n",
        "modelo.compile(optimizer='rmsprop', loss='mse') #root mean square propagation es una variante de stochastic gradient descent que actualiza los weights.\n",
        "modelo.fit(X_train,Y_train,epochs=20,batch_size=32)"
      ]
    },
    {
      "cell_type": "markdown",
      "metadata": {
        "id": "tA_uHFlhCs31"
      },
      "source": [
        "# Predecimos y graficamos"
      ]
    },
    {
      "cell_type": "code",
      "execution_count": null,
      "metadata": {
        "id": "rDv7E219DY2r",
        "colab": {
          "base_uri": "https://localhost:8080/"
        },
        "outputId": "47267eb7-7367-49d7-f594-9b15004542a0"
      },
      "outputs": [
        {
          "output_type": "stream",
          "name": "stdout",
          "text": [
            "30/30 [==============================] - 1s 10ms/step\n"
          ]
        }
      ],
      "source": [
        "X_test = []\n",
        "y_test = []\n",
        "indexes = []\n",
        "test_scaled = sc.transform(test)\n",
        "m = len(test)\n",
        "ventana = 0\n",
        "X_test = []\n",
        "for i in range(time_step,m-ventana):\n",
        "\n",
        "  X_test.append(test_scaled[i-time_step:i,0])\n",
        "  y_test.append(test_scaled[i+ventana,0])\n",
        "  indexes.append(test.index[i+ventana])\n",
        "X_test, Y_test = np.array(X_test), np.array(y_test)\n",
        "\n",
        "prediccion = modelo.predict(X_test)\n",
        "prediccion = sc.inverse_transform(prediccion)\n",
        "Y_test = sc.inverse_transform(Y_test.reshape(-1,1)) #aplicar inverse a los datos escalados para volver al formato de precio.\n"
      ]
    },
    {
      "cell_type": "code",
      "execution_count": null,
      "metadata": {
        "id": "HVVC9picCtQD"
      },
      "outputs": [],
      "source": [
        "def graficar_predicciones(real, prediccion, indices):\n",
        "    plt.plot(pd.DataFrame(real, index= indices),color='red', label='Valor real de la acción')\n",
        "    plt.plot(pd.DataFrame(prediccion, index = indices), color='blue', label='Predicción de la acción')\n",
        "    plt.ylim(1.1 * np.min(prediccion)/2, 1.1 * np.max(prediccion))\n",
        "    plt.xlabel('Tiempo')\n",
        "    plt.xticks(rotation=45)\n",
        "    plt.ylabel('Valor de la acción')\n",
        "    plt.legend()\n",
        "    plt.show()"
      ]
    },
    {
      "cell_type": "code",
      "execution_count": null,
      "metadata": {
        "colab": {
          "base_uri": "https://localhost:8080/",
          "height": 470
        },
        "id": "fBXtvLOCE6r7",
        "outputId": "c6327b30-d1eb-403b-bba2-b61a53855e2f"
      },
      "outputs": [
        {
          "output_type": "display_data",
          "data": {
            "text/plain": [
              "<Figure size 640x480 with 1 Axes>"
            ],
            "image/png": "[encoded data removed]"
          },
          "metadata": {}
        }
      ],
      "source": [
        "graficar_predicciones(Y_test, prediccion, indexes)"
      ]
    },
    {
      "cell_type": "code",
      "execution_count": null,
      "metadata": {
        "colab": {
          "base_uri": "https://localhost:8080/"
        },
        "id": "Ty97kuftJVot",
        "outputId": "20c0164a-fdf5-4fb6-800e-12ee6ea9a642"
      },
      "outputs": [
        {
          "output_type": "execute_result",
          "data": {
            "text/plain": [
              "11.234138491238381"
            ]
          },
          "metadata": {},
          "execution_count": 24
        }
      ],
      "source": [
        "from sklearn.metrics import mean_squared_error\n",
        "mean_squared_error(Y_test, prediccion)\n"
      ]
    },
    {
      "cell_type": "markdown",
      "source": [
        "## Predicción de cotizaciones de Mastercard"
      ],
      "metadata": {
        "id": "7xyfiP1DQ_8o"
      }
    },
    {
      "cell_type": "code",
      "source": [
        "import numpy as np\n",
        "import pandas as pd\n",
        "import matplotlib.pyplot as plt\n",
        "\n",
        "from sklearn.preprocessing import MinMaxScaler\n",
        "from sklearn.metrics import mean_squared_error\n",
        "\n",
        "from tensorflow.keras.models import Sequential\n",
        "from tensorflow.keras.layers import Dense, LSTM\n",
        "from tensorflow.keras.optimizers import SGD\n",
        "from tensorflow.random import set_seed\n",
        "\n",
        "#set_seed(455)\n",
        "#np.random.seed(455)"
      ],
      "metadata": {
        "id": "ok4qyHLARDCD"
      },
      "execution_count": null,
      "outputs": []
    },
    {
      "cell_type": "code",
      "source": [
        "#dataset de las cotizaciones de mastercard entre 2016 y abril 2024\n",
        "dataset = pd.read_csv(\"https://raw.githubusercontent.com/Lashanghainesa/dataset/main/MA.csv\", index_col=\"Date\",parse_dates=[\"Date\"]) #transformo la columna date en indice. parse_dates me sirve para despues graficar el eje X."
      ],
      "metadata": {
        "id": "eU4jHeSgd4-m"
      },
      "execution_count": null,
      "outputs": []
    },
    {
      "cell_type": "code",
      "source": [
        "dataset.head()"
      ],
      "metadata": {
        "colab": {
          "base_uri": "https://localhost:8080/",
          "height": 237
        },
        "id": "CEaBhM2LYVDR",
        "outputId": "92c55726-b988-434e-93ee-4949ba4b5837"
      },
      "execution_count": null,
      "outputs": [
        {
          "output_type": "execute_result",
          "data": {
            "text/plain": [
              "                 Open       High        Low      Close  Adj Close   Volume\n",
              "Date                                                                      \n",
              "2016-01-04  95.370003  95.589996  93.720001  94.809998  90.044182  6378700\n",
              "2016-01-05  95.379997  95.830002  94.410004  94.989998  90.215126  4352500\n",
              "2016-01-06  93.489998  94.389999  92.980003  93.349998  88.835258  4370000\n",
              "2016-01-07  91.559998  92.370003  90.680000  91.639999  87.207970  6600000\n",
              "2016-01-08  91.970001  92.239998  89.720001  89.889999  85.542587  5912100"
            ],
            "text/html": [
              "\n",
              "  <div id=\"df-4e058d2b-2ebd-4fc2-9ca7-e24cf9e58976\" class=\"colab-df-container\">\n",
              "    <div>\n",
              "<style scoped>\n",
              "    .dataframe tbody tr th:only-of-type {\n",
              "        vertical-align: middle;\n",
              "    }\n",
              "\n",
              "    .dataframe tbody tr th {\n",
              "        vertical-align: top;\n",
              "    }\n",
              "\n",
              "    .dataframe thead th {\n",
              "        text-align: right;\n",
              "    }\n",
              "</style>\n",
              "<table border=\"1\" class=\"dataframe\">\n",
              "  <thead>\n",
              "    <tr style=\"text-align: right;\">\n",
              "      <th></th>\n",
              "      <th>Open</th>\n",
              "      <th>High</th>\n",
              "      <th>Low</th>\n",
              "      <th>Close</th>\n",
              "      <th>Adj Close</th>\n",
              "      <th>Volume</th>\n",
              "    </tr>\n",
              "    <tr>\n",
              "      <th>Date</th>\n",
              "      <th></th>\n",
              "      <th></th>\n",
              "      <th></th>\n",
              "      <th></th>\n",
              "      <th></th>\n",
              "      <th></th>\n",
              "    </tr>\n",
              "  </thead>\n",
              "  <tbody>\n",
              "    <tr>\n",
              "      <th>2016-01-04</th>\n",
              "      <td>95.370003</td>\n",
              "      <td>95.589996</td>\n",
              "      <td>93.720001</td>\n",
              "      <td>94.809998</td>\n",
              "      <td>90.044182</td>\n",
              "      <td>6378700</td>\n",
              "    </tr>\n",
              "    <tr>\n",
              "      <th>2016-01-05</th>\n",
              "      <td>95.379997</td>\n",
              "      <td>95.830002</td>\n",
              "      <td>94.410004</td>\n",
              "      <td>94.989998</td>\n",
              "      <td>90.215126</td>\n",
              "      <td>4352500</td>\n",
              "    </tr>\n",
              "    <tr>\n",
              "      <th>2016-01-06</th>\n",
              "      <td>93.489998</td>\n",
              "      <td>94.389999</td>\n",
              "      <td>92.980003</td>\n",
              "      <td>93.349998</td>\n",
              "      <td>88.835258</td>\n",
              "      <td>4370000</td>\n",
              "    </tr>\n",
              "    <tr>\n",
              "      <th>2016-01-07</th>\n",
              "      <td>91.559998</td>\n",
              "      <td>92.370003</td>\n",
              "      <td>90.680000</td>\n",
              "      <td>91.639999</td>\n",
              "      <td>87.207970</td>\n",
              "      <td>6600000</td>\n",
              "    </tr>\n",
              "    <tr>\n",
              "      <th>2016-01-08</th>\n",
              "      <td>91.970001</td>\n",
              "      <td>92.239998</td>\n",
              "      <td>89.720001</td>\n",
              "      <td>89.889999</td>\n",
              "      <td>85.542587</td>\n",
              "      <td>5912100</td>\n",
              "    </tr>\n",
              "  </tbody>\n",
              "</table>\n",
              "</div>\n",
              "    <div class=\"colab-df-buttons\">\n",
              "\n",
              "  <div class=\"colab-df-container\">\n",
              "    <button class=\"colab-df-convert\" onclick=\"convertToInteractive('df-4e058d2b-2ebd-4fc2-9ca7-e24cf9e58976')\"\n",
              "            title=\"Convert this dataframe to an interactive table.\"\n",
              "            style=\"display:none;\">\n",
              "\n",
              "  <svg xmlns=\"http://www.w3.org/2000/svg\" height=\"24px\" viewBox=\"0 -960 960 960\">\n",
              "    <path d=\"M120-120v-720h720v720H120Zm60-500h600v-160H180v160Zm220 220h160v-160H400v160Zm0 220h160v-160H400v160ZM180-400h160v-160H180v160Zm440 0h160v-160H620v160ZM180-180h160v-160H180v160Zm440 0h160v-160H620v160Z\"/>\n",
              "  </svg>\n",
              "    </button>\n",
              "\n",
              "  <style>\n",
              "    .colab-df-container {\n",
              "      display:flex;\n",
              "      gap: 12px;\n",
              "    }\n",
              "\n",
              "    .colab-df-convert {\n",
              "      background-color: #E8F0FE;\n",
              "      border: none;\n",
              "      border-radius: 50%;\n",
              "      cursor: pointer;\n",
              "      display: none;\n",
              "      fill: #1967D2;\n",
              "      height: 32px;\n",
              "      padding: 0 0 0 0;\n",
              "      width: 32px;\n",
              "    }\n",
              "\n",
              "    .colab-df-convert:hover {\n",
              "      background-color: #E2EBFA;\n",
              "      box-shadow: 0px 1px 2px rgba(60, 64, 67, 0.3), 0px 1px 3px 1px rgba(60, 64, 67, 0.15);\n",
              "      fill: #174EA6;\n",
              "    }\n",
              "\n",
              "    .colab-df-buttons div {\n",
              "      margin-bottom: 4px;\n",
              "    }\n",
              "\n",
              "    [theme=dark] .colab-df-convert {\n",
              "      background-color: #3B4455;\n",
              "      fill: #D2E3FC;\n",
              "    }\n",
              "\n",
              "    [theme=dark] .colab-df-convert:hover {\n",
              "      background-color: #434B5C;\n",
              "      box-shadow: 0px 1px 3px 1px rgba(0, 0, 0, 0.15);\n",
              "      filter: drop-shadow(0px 1px 2px rgba(0, 0, 0, 0.3));\n",
              "      fill: #FFFFFF;\n",
              "    }\n",
              "  </style>\n",
              "\n",
              "    <script>\n",
              "      const buttonEl =\n",
              "        document.querySelector('#df-4e058d2b-2ebd-4fc2-9ca7-e24cf9e58976 button.colab-df-convert');\n",
              "      buttonEl.style.display =\n",
              "        google.colab.kernel.accessAllowed ? 'block' : 'none';\n",
              "\n",
              "      async function convertToInteractive(key) {\n",
              "        const element = document.querySelector('#df-4e058d2b-2ebd-4fc2-9ca7-e24cf9e58976');\n",
              "        const dataTable =\n",
              "          await google.colab.kernel.invokeFunction('convertToInteractive',\n",
              "                                                    [key], {});\n",
              "        if (!dataTable) return;\n",
              "\n",
              "        const docLinkHtml = 'Like what you see? Visit the ' +\n",
              "          '<a target=\"_blank\" href=https://colab.research.google.com/notebooks/data_table.ipynb>data table notebook</a>'\n",
              "          + ' to learn more about interactive tables.';\n",
              "        element.innerHTML = '';\n",
              "        dataTable['output_type'] = 'display_data';\n",
              "        await google.colab.output.renderOutput(dataTable, element);\n",
              "        const docLink = document.createElement('div');\n",
              "        docLink.innerHTML = docLinkHtml;\n",
              "        element.appendChild(docLink);\n",
              "      }\n",
              "    </script>\n",
              "  </div>\n",
              "\n",
              "\n",
              "<div id=\"df-231c0970-f439-4f24-986a-284eda7344dd\">\n",
              "  <button class=\"colab-df-quickchart\" onclick=\"quickchart('df-231c0970-f439-4f24-986a-284eda7344dd')\"\n",
              "            title=\"Suggest charts\"\n",
              "            style=\"display:none;\">\n",
              "\n",
              "<svg xmlns=\"http://www.w3.org/2000/svg\" height=\"24px\"viewBox=\"0 0 24 24\"\n",
              "     width=\"24px\">\n",
              "    <g>\n",
              "        <path d=\"M19 3H5c-1.1 0-2 .9-2 2v14c0 1.1.9 2 2 2h14c1.1 0 2-.9 2-2V5c0-1.1-.9-2-2-2zM9 17H7v-7h2v7zm4 0h-2V7h2v10zm4 0h-2v-4h2v4z\"/>\n",
              "    </g>\n",
              "</svg>\n",
              "  </button>\n",
              "\n",
              "<style>\n",
              "  .colab-df-quickchart {\n",
              "      --bg-color: #E8F0FE;\n",
              "      --fill-color: #1967D2;\n",
              "      --hover-bg-color: #E2EBFA;\n",
              "      --hover-fill-color: #174EA6;\n",
              "      --disabled-fill-color: #AAA;\n",
              "      --disabled-bg-color: #DDD;\n",
              "  }\n",
              "\n",
              "  [theme=dark] .colab-df-quickchart {\n",
              "      --bg-color: #3B4455;\n",
              "      --fill-color: #D2E3FC;\n",
              "      --hover-bg-color: #434B5C;\n",
              "      --hover-fill-color: #FFFFFF;\n",
              "      --disabled-bg-color: #3B4455;\n",
              "      --disabled-fill-color: #666;\n",
              "  }\n",
              "\n",
              "  .colab-df-quickchart {\n",
              "    background-color: var(--bg-color);\n",
              "    border: none;\n",
              "    border-radius: 50%;\n",
              "    cursor: pointer;\n",
              "    display: none;\n",
              "    fill: var(--fill-color);\n",
              "    height: 32px;\n",
              "    padding: 0;\n",
              "    width: 32px;\n",
              "  }\n",
              "\n",
              "  .colab-df-quickchart:hover {\n",
              "    background-color: var(--hover-bg-color);\n",
              "    box-shadow: 0 1px 2px rgba(60, 64, 67, 0.3), 0 1px 3px 1px rgba(60, 64, 67, 0.15);\n",
              "    fill: var(--button-hover-fill-color);\n",
              "  }\n",
              "\n",
              "  .colab-df-quickchart-complete:disabled,\n",
              "  .colab-df-quickchart-complete:disabled:hover {\n",
              "    background-color: var(--disabled-bg-color);\n",
              "    fill: var(--disabled-fill-color);\n",
              "    box-shadow: none;\n",
              "  }\n",
              "\n",
              "  .colab-df-spinner {\n",
              "    border: 2px solid var(--fill-color);\n",
              "    border-color: transparent;\n",
              "    border-bottom-color: var(--fill-color);\n",
              "    animation:\n",
              "      spin 1s steps(1) infinite;\n",
              "  }\n",
              "\n",
              "  @keyframes spin {\n",
              "    0% {\n",
              "      border-color: transparent;\n",
              "      border-bottom-color: var(--fill-color);\n",
              "      border-left-color: var(--fill-color);\n",
              "    }\n",
              "    20% {\n",
              "      border-color: transparent;\n",
              "      border-left-color: var(--fill-color);\n",
              "      border-top-color: var(--fill-color);\n",
              "    }\n",
              "    30% {\n",
              "      border-color: transparent;\n",
              "      border-left-color: var(--fill-color);\n",
              "      border-top-color: var(--fill-color);\n",
              "      border-right-color: var(--fill-color);\n",
              "    }\n",
              "    40% {\n",
              "      border-color: transparent;\n",
              "      border-right-color: var(--fill-color);\n",
              "      border-top-color: var(--fill-color);\n",
              "    }\n",
              "    60% {\n",
              "      border-color: transparent;\n",
              "      border-right-color: var(--fill-color);\n",
              "    }\n",
              "    80% {\n",
              "      border-color: transparent;\n",
              "      border-right-color: var(--fill-color);\n",
              "      border-bottom-color: var(--fill-color);\n",
              "    }\n",
              "    90% {\n",
              "      border-color: transparent;\n",
              "      border-bottom-color: var(--fill-color);\n",
              "    }\n",
              "  }\n",
              "</style>\n",
              "\n",
              "  <script>\n",
              "    async function quickchart(key) {\n",
              "      const quickchartButtonEl =\n",
              "        document.querySelector('#' + key + ' button');\n",
              "      quickchartButtonEl.disabled = true;  // To prevent multiple clicks.\n",
              "      quickchartButtonEl.classList.add('colab-df-spinner');\n",
              "      try {\n",
              "        const charts = await google.colab.kernel.invokeFunction(\n",
              "            'suggestCharts', [key], {});\n",
              "      } catch (error) {\n",
              "        console.error('Error during call to suggestCharts:', error);\n",
              "      }\n",
              "      quickchartButtonEl.classList.remove('colab-df-spinner');\n",
              "      quickchartButtonEl.classList.add('colab-df-quickchart-complete');\n",
              "    }\n",
              "    (() => {\n",
              "      let quickchartButtonEl =\n",
              "        document.querySelector('#df-231c0970-f439-4f24-986a-284eda7344dd button');\n",
              "      quickchartButtonEl.style.display =\n",
              "        google.colab.kernel.accessAllowed ? 'block' : 'none';\n",
              "    })();\n",
              "  </script>\n",
              "</div>\n",
              "\n",
              "    </div>\n",
              "  </div>\n"
            ],
            "application/vnd.google.colaboratory.intrinsic+json": {
              "type": "dataframe",
              "variable_name": "dataset",
              "summary": "{\n  \"name\": \"dataset\",\n  \"rows\": 2084,\n  \"fields\": [\n    {\n      \"column\": \"Date\",\n      \"properties\": {\n        \"dtype\": \"date\",\n        \"min\": \"2016-01-04 00:00:00\",\n        \"max\": \"2024-04-15 00:00:00\",\n        \"num_unique_values\": 2084,\n        \"samples\": [\n          \"2023-09-08 00:00:00\",\n          \"2019-04-24 00:00:00\",\n          \"2021-05-19 00:00:00\"\n        ],\n        \"semantic_type\": \"\",\n        \"description\": \"\"\n      }\n    },\n    {\n      \"column\": \"Open\",\n      \"properties\": {\n        \"dtype\": \"number\",\n        \"std\": 108.93627735603754,\n        \"min\": 78.870003,\n        \"max\": 488.529999,\n        \"num_unique_values\": 1952,\n        \"samples\": [\n          322.450012,\n          324.959991,\n          461.209991\n        ],\n        \"semantic_type\": \"\",\n        \"description\": \"\"\n      }\n    },\n    {\n      \"column\": \"High\",\n      \"properties\": {\n        \"dtype\": \"number\",\n        \"std\": 110.03214185828969,\n        \"min\": 81.739998,\n        \"max\": 490.0,\n        \"num_unique_values\": 1985,\n        \"samples\": [\n          201.0,\n          355.309998,\n          297.820007\n        ],\n        \"semantic_type\": \"\",\n        \"description\": \"\"\n      }\n    },\n    {\n      \"column\": \"Low\",\n      \"properties\": {\n        \"dtype\": \"number\",\n        \"std\": 107.8266263752086,\n        \"min\": 78.519997,\n        \"max\": 483.640015,\n        \"num_unique_values\": 1995,\n        \"samples\": [\n          273.190002,\n          349.100006,\n          142.429993\n        ],\n        \"semantic_type\": \"\",\n        \"description\": \"\"\n      }\n    },\n    {\n      \"column\": \"Close\",\n      \"properties\": {\n        \"dtype\": \"number\",\n        \"std\": 108.95404018477433,\n        \"min\": 80.650002,\n        \"max\": 488.640015,\n        \"num_unique_values\": 2007,\n        \"samples\": [\n          460.5,\n          180.119995,\n          133.070007\n        ],\n        \"semantic_type\": \"\",\n        \"description\": \"\"\n      }\n    },\n    {\n      \"column\": \"Adj Close\",\n      \"properties\": {\n        \"dtype\": \"number\",\n        \"std\": 109.45901248187843,\n        \"min\": 76.749474,\n        \"max\": 487.964142,\n        \"num_unique_values\": 2056,\n        \"samples\": [\n          97.895325,\n          342.72702,\n          104.247894\n        ],\n        \"semantic_type\": \"\",\n        \"description\": \"\"\n      }\n    },\n    {\n      \"column\": \"Volume\",\n      \"properties\": {\n        \"dtype\": \"number\",\n        \"std\": 1723951,\n        \"min\": 641100,\n        \"max\": 16410500,\n        \"num_unique_values\": 2033,\n        \"samples\": [\n          9185200,\n          641100,\n          2859300\n        ],\n        \"semantic_type\": \"\",\n        \"description\": \"\"\n      }\n    }\n  ]\n}"
            }
          },
          "metadata": {},
          "execution_count": 27
        }
      ]
    },
    {
      "cell_type": "code",
      "source": [
        "dataset.describe()"
      ],
      "metadata": {
        "colab": {
          "base_uri": "https://localhost:8080/",
          "height": 300
        },
        "id": "eo9ILlPsRTxv",
        "outputId": "6f02374f-9ff1-4833-922e-3f2bd4143703"
      },
      "execution_count": null,
      "outputs": [
        {
          "output_type": "execute_result",
          "data": {
            "text/plain": [
              "              Open         High          Low        Close    Adj Close  \\\n",
              "count  2084.000000  2084.000000  2084.000000  2084.000000  2084.000000   \n",
              "mean    264.945696   267.618872   262.229428   265.010240   260.089491   \n",
              "std     108.936277   110.032142   107.826626   108.954040   109.459012   \n",
              "min      78.870003    81.739998    78.519997    80.650002    76.749474   \n",
              "25%     167.359997   168.902496   165.857498   167.190002   161.513596   \n",
              "50%     288.750000   291.925003   284.885010   288.875000   282.976791   \n",
              "75%     355.955001   359.622498   351.652496   355.787506   351.570069   \n",
              "max     488.529999   490.000000   483.640015   488.640015   487.964142   \n",
              "\n",
              "             Volume  \n",
              "count  2.084000e+03  \n",
              "mean   3.649914e+06  \n",
              "std    1.723952e+06  \n",
              "min    6.411000e+05  \n",
              "25%    2.552525e+06  \n",
              "50%    3.203450e+06  \n",
              "75%    4.210250e+06  \n",
              "max    1.641050e+07  "
            ],
            "text/html": [
              "\n",
              "  <div id=\"df-2c53b554-3291-47af-96f1-1f2cc6203e64\" class=\"colab-df-container\">\n",
              "    <div>\n",
              "<style scoped>\n",
              "    .dataframe tbody tr th:only-of-type {\n",
              "        vertical-align: middle;\n",
              "    }\n",
              "\n",
              "    .dataframe tbody tr th {\n",
              "        vertical-align: top;\n",
              "    }\n",
              "\n",
              "    .dataframe thead th {\n",
              "        text-align: right;\n",
              "    }\n",
              "</style>\n",
              "<table border=\"1\" class=\"dataframe\">\n",
              "  <thead>\n",
              "    <tr style=\"text-align: right;\">\n",
              "      <th></th>\n",
              "      <th>Open</th>\n",
              "      <th>High</th>\n",
              "      <th>Low</th>\n",
              "      <th>Close</th>\n",
              "      <th>Adj Close</th>\n",
              "      <th>Volume</th>\n",
              "    </tr>\n",
              "  </thead>\n",
              "  <tbody>\n",
              "    <tr>\n",
              "      <th>count</th>\n",
              "      <td>2084.000000</td>\n",
              "      <td>2084.000000</td>\n",
              "      <td>2084.000000</td>\n",
              "      <td>2084.000000</td>\n",
              "      <td>2084.000000</td>\n",
              "      <td>2.084000e+03</td>\n",
              "    </tr>\n",
              "    <tr>\n",
              "      <th>mean</th>\n",
              "      <td>264.945696</td>\n",
              "      <td>267.618872</td>\n",
              "      <td>262.229428</td>\n",
              "      <td>265.010240</td>\n",
              "      <td>260.089491</td>\n",
              "      <td>3.649914e+06</td>\n",
              "    </tr>\n",
              "    <tr>\n",
              "      <th>std</th>\n",
              "      <td>108.936277</td>\n",
              "      <td>110.032142</td>\n",
              "      <td>107.826626</td>\n",
              "      <td>108.954040</td>\n",
              "      <td>109.459012</td>\n",
              "      <td>1.723952e+06</td>\n",
              "    </tr>\n",
              "    <tr>\n",
              "      <th>min</th>\n",
              "      <td>78.870003</td>\n",
              "      <td>81.739998</td>\n",
              "      <td>78.519997</td>\n",
              "      <td>80.650002</td>\n",
              "      <td>76.749474</td>\n",
              "      <td>6.411000e+05</td>\n",
              "    </tr>\n",
              "    <tr>\n",
              "      <th>25%</th>\n",
              "      <td>167.359997</td>\n",
              "      <td>168.902496</td>\n",
              "      <td>165.857498</td>\n",
              "      <td>167.190002</td>\n",
              "      <td>161.513596</td>\n",
              "      <td>2.552525e+06</td>\n",
              "    </tr>\n",
              "    <tr>\n",
              "      <th>50%</th>\n",
              "      <td>288.750000</td>\n",
              "      <td>291.925003</td>\n",
              "      <td>284.885010</td>\n",
              "      <td>288.875000</td>\n",
              "      <td>282.976791</td>\n",
              "      <td>3.203450e+06</td>\n",
              "    </tr>\n",
              "    <tr>\n",
              "      <th>75%</th>\n",
              "      <td>355.955001</td>\n",
              "      <td>359.622498</td>\n",
              "      <td>351.652496</td>\n",
              "      <td>355.787506</td>\n",
              "      <td>351.570069</td>\n",
              "      <td>4.210250e+06</td>\n",
              "    </tr>\n",
              "    <tr>\n",
              "      <th>max</th>\n",
              "      <td>488.529999</td>\n",
              "      <td>490.000000</td>\n",
              "      <td>483.640015</td>\n",
              "      <td>488.640015</td>\n",
              "      <td>487.964142</td>\n",
              "      <td>1.641050e+07</td>\n",
              "    </tr>\n",
              "  </tbody>\n",
              "</table>\n",
              "</div>\n",
              "    <div class=\"colab-df-buttons\">\n",
              "\n",
              "  <div class=\"colab-df-container\">\n",
              "    <button class=\"colab-df-convert\" onclick=\"convertToInteractive('df-2c53b554-3291-47af-96f1-1f2cc6203e64')\"\n",
              "            title=\"Convert this dataframe to an interactive table.\"\n",
              "            style=\"display:none;\">\n",
              "\n",
              "  <svg xmlns=\"http://www.w3.org/2000/svg\" height=\"24px\" viewBox=\"0 -960 960 960\">\n",
              "    <path d=\"M120-120v-720h720v720H120Zm60-500h600v-160H180v160Zm220 220h160v-160H400v160Zm0 220h160v-160H400v160ZM180-400h160v-160H180v160Zm440 0h160v-160H620v160ZM180-180h160v-160H180v160Zm440 0h160v-160H620v160Z\"/>\n",
              "  </svg>\n",
              "    </button>\n",
              "\n",
              "  <style>\n",
              "    .colab-df-container {\n",
              "      display:flex;\n",
              "      gap: 12px;\n",
              "    }\n",
              "\n",
              "    .colab-df-convert {\n",
              "      background-color: #E8F0FE;\n",
              "      border: none;\n",
              "      border-radius: 50%;\n",
              "      cursor: pointer;\n",
              "      display: none;\n",
              "      fill: #1967D2;\n",
              "      height: 32px;\n",
              "      padding: 0 0 0 0;\n",
              "      width: 32px;\n",
              "    }\n",
              "\n",
              "    .colab-df-convert:hover {\n",
              "      background-color: #E2EBFA;\n",
              "      box-shadow: 0px 1px 2px rgba(60, 64, 67, 0.3), 0px 1px 3px 1px rgba(60, 64, 67, 0.15);\n",
              "      fill: #174EA6;\n",
              "    }\n",
              "\n",
              "    .colab-df-buttons div {\n",
              "      margin-bottom: 4px;\n",
              "    }\n",
              "\n",
              "    [theme=dark] .colab-df-convert {\n",
              "      background-color: #3B4455;\n",
              "      fill: #D2E3FC;\n",
              "    }\n",
              "\n",
              "    [theme=dark] .colab-df-convert:hover {\n",
              "      background-color: #434B5C;\n",
              "      box-shadow: 0px 1px 3px 1px rgba(0, 0, 0, 0.15);\n",
              "      filter: drop-shadow(0px 1px 2px rgba(0, 0, 0, 0.3));\n",
              "      fill: #FFFFFF;\n",
              "    }\n",
              "  </style>\n",
              "\n",
              "    <script>\n",
              "      const buttonEl =\n",
              "        document.querySelector('#df-2c53b554-3291-47af-96f1-1f2cc6203e64 button.colab-df-convert');\n",
              "      buttonEl.style.display =\n",
              "        google.colab.kernel.accessAllowed ? 'block' : 'none';\n",
              "\n",
              "      async function convertToInteractive(key) {\n",
              "        const element = document.querySelector('#df-2c53b554-3291-47af-96f1-1f2cc6203e64');\n",
              "        const dataTable =\n",
              "          await google.colab.kernel.invokeFunction('convertToInteractive',\n",
              "                                                    [key], {});\n",
              "        if (!dataTable) return;\n",
              "\n",
              "        const docLinkHtml = 'Like what you see? Visit the ' +\n",
              "          '<a target=\"_blank\" href=https://colab.research.google.com/notebooks/data_table.ipynb>data table notebook</a>'\n",
              "          + ' to learn more about interactive tables.';\n",
              "        element.innerHTML = '';\n",
              "        dataTable['output_type'] = 'display_data';\n",
              "        await google.colab.output.renderOutput(dataTable, element);\n",
              "        const docLink = document.createElement('div');\n",
              "        docLink.innerHTML = docLinkHtml;\n",
              "        element.appendChild(docLink);\n",
              "      }\n",
              "    </script>\n",
              "  </div>\n",
              "\n",
              "\n",
              "<div id=\"df-3e505ec5-814e-4401-8cb0-48cdd15b4c83\">\n",
              "  <button class=\"colab-df-quickchart\" onclick=\"quickchart('df-3e505ec5-814e-4401-8cb0-48cdd15b4c83')\"\n",
              "            title=\"Suggest charts\"\n",
              "            style=\"display:none;\">\n",
              "\n",
              "<svg xmlns=\"http://www.w3.org/2000/svg\" height=\"24px\"viewBox=\"0 0 24 24\"\n",
              "     width=\"24px\">\n",
              "    <g>\n",
              "        <path d=\"M19 3H5c-1.1 0-2 .9-2 2v14c0 1.1.9 2 2 2h14c1.1 0 2-.9 2-2V5c0-1.1-.9-2-2-2zM9 17H7v-7h2v7zm4 0h-2V7h2v10zm4 0h-2v-4h2v4z\"/>\n",
              "    </g>\n",
              "</svg>\n",
              "  </button>\n",
              "\n",
              "<style>\n",
              "  .colab-df-quickchart {\n",
              "      --bg-color: #E8F0FE;\n",
              "      --fill-color: #1967D2;\n",
              "      --hover-bg-color: #E2EBFA;\n",
              "      --hover-fill-color: #174EA6;\n",
              "      --disabled-fill-color: #AAA;\n",
              "      --disabled-bg-color: #DDD;\n",
              "  }\n",
              "\n",
              "  [theme=dark] .colab-df-quickchart {\n",
              "      --bg-color: #3B4455;\n",
              "      --fill-color: #D2E3FC;\n",
              "      --hover-bg-color: #434B5C;\n",
              "      --hover-fill-color: #FFFFFF;\n",
              "      --disabled-bg-color: #3B4455;\n",
              "      --disabled-fill-color: #666;\n",
              "  }\n",
              "\n",
              "  .colab-df-quickchart {\n",
              "    background-color: var(--bg-color);\n",
              "    border: none;\n",
              "    border-radius: 50%;\n",
              "    cursor: pointer;\n",
              "    display: none;\n",
              "    fill: var(--fill-color);\n",
              "    height: 32px;\n",
              "    padding: 0;\n",
              "    width: 32px;\n",
              "  }\n",
              "\n",
              "  .colab-df-quickchart:hover {\n",
              "    background-color: var(--hover-bg-color);\n",
              "    box-shadow: 0 1px 2px rgba(60, 64, 67, 0.3), 0 1px 3px 1px rgba(60, 64, 67, 0.15);\n",
              "    fill: var(--button-hover-fill-color);\n",
              "  }\n",
              "\n",
              "  .colab-df-quickchart-complete:disabled,\n",
              "  .colab-df-quickchart-complete:disabled:hover {\n",
              "    background-color: var(--disabled-bg-color);\n",
              "    fill: var(--disabled-fill-color);\n",
              "    box-shadow: none;\n",
              "  }\n",
              "\n",
              "  .colab-df-spinner {\n",
              "    border: 2px solid var(--fill-color);\n",
              "    border-color: transparent;\n",
              "    border-bottom-color: var(--fill-color);\n",
              "    animation:\n",
              "      spin 1s steps(1) infinite;\n",
              "  }\n",
              "\n",
              "  @keyframes spin {\n",
              "    0% {\n",
              "      border-color: transparent;\n",
              "      border-bottom-color: var(--fill-color);\n",
              "      border-left-color: var(--fill-color);\n",
              "    }\n",
              "    20% {\n",
              "      border-color: transparent;\n",
              "      border-left-color: var(--fill-color);\n",
              "      border-top-color: var(--fill-color);\n",
              "    }\n",
              "    30% {\n",
              "      border-color: transparent;\n",
              "      border-left-color: var(--fill-color);\n",
              "      border-top-color: var(--fill-color);\n",
              "      border-right-color: var(--fill-color);\n",
              "    }\n",
              "    40% {\n",
              "      border-color: transparent;\n",
              "      border-right-color: var(--fill-color);\n",
              "      border-top-color: var(--fill-color);\n",
              "    }\n",
              "    60% {\n",
              "      border-color: transparent;\n",
              "      border-right-color: var(--fill-color);\n",
              "    }\n",
              "    80% {\n",
              "      border-color: transparent;\n",
              "      border-right-color: var(--fill-color);\n",
              "      border-bottom-color: var(--fill-color);\n",
              "    }\n",
              "    90% {\n",
              "      border-color: transparent;\n",
              "      border-bottom-color: var(--fill-color);\n",
              "    }\n",
              "  }\n",
              "</style>\n",
              "\n",
              "  <script>\n",
              "    async function quickchart(key) {\n",
              "      const quickchartButtonEl =\n",
              "        document.querySelector('#' + key + ' button');\n",
              "      quickchartButtonEl.disabled = true;  // To prevent multiple clicks.\n",
              "      quickchartButtonEl.classList.add('colab-df-spinner');\n",
              "      try {\n",
              "        const charts = await google.colab.kernel.invokeFunction(\n",
              "            'suggestCharts', [key], {});\n",
              "      } catch (error) {\n",
              "        console.error('Error during call to suggestCharts:', error);\n",
              "      }\n",
              "      quickchartButtonEl.classList.remove('colab-df-spinner');\n",
              "      quickchartButtonEl.classList.add('colab-df-quickchart-complete');\n",
              "    }\n",
              "    (() => {\n",
              "      let quickchartButtonEl =\n",
              "        document.querySelector('#df-3e505ec5-814e-4401-8cb0-48cdd15b4c83 button');\n",
              "      quickchartButtonEl.style.display =\n",
              "        google.colab.kernel.accessAllowed ? 'block' : 'none';\n",
              "    })();\n",
              "  </script>\n",
              "</div>\n",
              "\n",
              "    </div>\n",
              "  </div>\n"
            ],
            "application/vnd.google.colaboratory.intrinsic+json": {
              "type": "dataframe",
              "summary": "{\n  \"name\": \"dataset\",\n  \"rows\": 8,\n  \"fields\": [\n    {\n      \"column\": \"Open\",\n      \"properties\": {\n        \"dtype\": \"number\",\n        \"std\": 661.9707904001302,\n        \"min\": 78.870003,\n        \"max\": 2084.0,\n        \"num_unique_values\": 8,\n        \"samples\": [\n          264.9456957044146,\n          288.75,\n          2084.0\n        ],\n        \"semantic_type\": \"\",\n        \"description\": \"\"\n      }\n    },\n    {\n      \"column\": \"High\",\n      \"properties\": {\n        \"dtype\": \"number\",\n        \"std\": 661.1818040697859,\n        \"min\": 81.739998,\n        \"max\": 2084.0,\n        \"num_unique_values\": 8,\n        \"samples\": [\n          267.618872346929,\n          291.925003,\n          2084.0\n        ],\n        \"semantic_type\": \"\",\n        \"description\": \"\"\n      }\n    },\n    {\n      \"column\": \"Low\",\n      \"properties\": {\n        \"dtype\": \"number\",\n        \"std\": 662.5840918270787,\n        \"min\": 78.519997,\n        \"max\": 2084.0,\n        \"num_unique_values\": 8,\n        \"samples\": [\n          262.2294284117083,\n          284.8850095,\n          2084.0\n        ],\n        \"semantic_type\": \"\",\n        \"description\": \"\"\n      }\n    },\n    {\n      \"column\": \"Close\",\n      \"properties\": {\n        \"dtype\": \"number\",\n        \"std\": 661.823700761196,\n        \"min\": 80.650002,\n        \"max\": 2084.0,\n        \"num_unique_values\": 8,\n        \"samples\": [\n          265.0102403536468,\n          288.875,\n          2084.0\n        ],\n        \"semantic_type\": \"\",\n        \"description\": \"\"\n      }\n    },\n    {\n      \"column\": \"Adj Close\",\n      \"properties\": {\n        \"dtype\": \"number\",\n        \"std\": 663.0896551028533,\n        \"min\": 76.749474,\n        \"max\": 2084.0,\n        \"num_unique_values\": 8,\n        \"samples\": [\n          260.0894913142994,\n          282.976791,\n          2084.0\n        ],\n        \"semantic_type\": \"\",\n        \"description\": \"\"\n      }\n    },\n    {\n      \"column\": \"Volume\",\n      \"properties\": {\n        \"dtype\": \"number\",\n        \"std\": 5200872.252766167,\n        \"min\": 2084.0,\n        \"max\": 16410500.0,\n        \"num_unique_values\": 8,\n        \"samples\": [\n          3649914.18378119,\n          3203450.0,\n          2084.0\n        ],\n        \"semantic_type\": \"\",\n        \"description\": \"\"\n      }\n    }\n  ]\n}"
            }
          },
          "metadata": {},
          "execution_count": 28
        }
      ]
    },
    {
      "cell_type": "code",
      "source": [
        "dataset.isna().sum()"
      ],
      "metadata": {
        "colab": {
          "base_uri": "https://localhost:8080/"
        },
        "id": "XQgTqkdHRZOO",
        "outputId": "dc9e61d6-c644-4171-f74d-ff753bf46057"
      },
      "execution_count": null,
      "outputs": [
        {
          "output_type": "execute_result",
          "data": {
            "text/plain": [
              "Open         0\n",
              "High         0\n",
              "Low          0\n",
              "Close        0\n",
              "Adj Close    0\n",
              "Volume       0\n",
              "dtype: int64"
            ]
          },
          "metadata": {},
          "execution_count": 29
        }
      ]
    },
    {
      "cell_type": "code",
      "source": [
        "len(dataset[\"Close\"])"
      ],
      "metadata": {
        "colab": {
          "base_uri": "https://localhost:8080/"
        },
        "id": "noWOULR3nSYB",
        "outputId": "9597dec4-889e-49b3-b4de-60b4d56d4ec8"
      },
      "execution_count": null,
      "outputs": [
        {
          "output_type": "execute_result",
          "data": {
            "text/plain": [
              "2084"
            ]
          },
          "metadata": {},
          "execution_count": 30
        }
      ]
    },
    {
      "cell_type": "code",
      "source": [
        "tstart = 2016 #especifico el año para hacer el split.  datos entre 2016 y 2022 son de entrenamiento, el resto, de test.\n",
        "tend = 2022\n",
        "\n",
        "def train_test_plot(dataset, tstart, tend):\n",
        "    dataset.loc[f\"{tstart}\":f\"{tend}\", \"Close\"].plot(figsize=(16, 4), legend=True)\n",
        "    dataset.loc[f\"{tend}\":, \"Close\"].plot(figsize=(16, 4), legend=True)\n",
        "    plt.legend([f\"Train (Before {tend+1})\", f\"Test ({tend+1} and beyond)\"])\n",
        "    plt.title(\"MasterCard stock price\")\n",
        "    plt.show()\n",
        "\n",
        "train_test_plot(dataset,tstart,tend)"
      ],
      "metadata": {
        "colab": {
          "base_uri": "https://localhost:8080/",
          "height": 390
        },
        "id": "qMFzhOP1RdbG",
        "outputId": "55ec0b8c-3a8e-49f6-cb41-acb7d90671a2"
      },
      "execution_count": null,
      "outputs": [
        {
          "output_type": "display_data",
          "data": {
            "text/plain": [
              "<Figure size 1600x400 with 1 Axes>"
            ],
            "image/png": "[encoded data removed]"
          },
          "metadata": {}
        }
      ]
    },
    {
      "cell_type": "code",
      "source": [
        "#hacemos el train/test split utilizando la columna close entre 2016/2022 y despues de 2023\n",
        "def train_test_split(dataset, tstart, tend):\n",
        "    train = dataset.loc[f\"{tstart}\":f\"{tend}\", \"Close\"].values\n",
        "    test = dataset.loc[f\"{tend}\":, \"Close\"].values\n",
        "    return train, test\n",
        "training_set, test_set = train_test_split(dataset, tstart, tend)"
      ],
      "metadata": {
        "id": "3Ybvny3tRveV"
      },
      "execution_count": null,
      "outputs": []
    },
    {
      "cell_type": "code",
      "source": [
        "#We will use the MinMaxScaler function to standardize our training set, which will help us avoid the outliers or anomalies.\n",
        "#You can also try using StandardScaler or any other scalar function to normalize your data and improve model performance.\n",
        "sc = MinMaxScaler(feature_range=(0, 1))\n",
        "training_set = training_set.reshape(-1, 1) #reacomodar el train set para que haya una columna.\n",
        "training_set_scaled = sc.fit_transform(training_set)"
      ],
      "metadata": {
        "id": "8vkUnLFOR2dy"
      },
      "execution_count": null,
      "outputs": []
    },
    {
      "cell_type": "markdown",
      "source": [
        "The split_sequence function uses a training dataset and converts it into inputs (X_train) and outputs (y_train).\n",
        "\n",
        "For example, if the sequence is [1,2,3,4,5,6,7,8,9,10,11,12] and the n_step is three, then it will convert the sequence into three input timestamps and one output as shown below:\n",
        "\n",
        "![image.png](data:image/png;base64,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)"
      ],
      "metadata": {
        "id": "bdRWRPyluh9a"
      }
    },
    {
      "cell_type": "code",
      "source": [
        "def split_sequence(sequence, n_steps):  #uso esta función para definir X_train e y_train.\n",
        "    X, y = list(), list()\n",
        "    for i in range(len(sequence)):\n",
        "        end_ix = i + n_steps\n",
        "        if end_ix > len(sequence) - 1:\n",
        "            break\n",
        "        seq_x, seq_y = sequence[i:end_ix], sequence[end_ix]\n",
        "        X.append(seq_x)\n",
        "        y.append(seq_y)\n",
        "    return np.array(X), np.array(y)\n",
        "\n",
        "\n",
        "n_steps = 60 #In this project, we are using 60 n_steps. We can also reduce or increase the number of steps to optimize model performance.\n",
        "features = 1\n",
        "# split into samples\n",
        "X_train, y_train = split_sequence(training_set_scaled, n_steps)"
      ],
      "metadata": {
        "id": "ZdtYQmLeR5jk"
      },
      "execution_count": null,
      "outputs": []
    },
    {
      "cell_type": "code",
      "source": [
        "# Reshaping X_train for model\n",
        "#We are working with univariate series, so the number of features is one, and we need to reshape the X_train to fit on the LSTM model.\n",
        "#The X_train has [samples, timesteps], and we will reshape it to [samples, timesteps, features].\n",
        "X_train = X_train.reshape(X_train.shape[0],X_train.shape[1],features)"
      ],
      "metadata": {
        "id": "yxzA2GW9SFSf"
      },
      "execution_count": null,
      "outputs": []
    },
    {
      "cell_type": "code",
      "source": [
        "X_train.shape[1]"
      ],
      "metadata": {
        "colab": {
          "base_uri": "https://localhost:8080/"
        },
        "id": "kXepcIQuelKN",
        "outputId": "f667dc4c-aba6-4dd3-98e9-ed64734785ab"
      },
      "execution_count": null,
      "outputs": [
        {
          "output_type": "execute_result",
          "data": {
            "text/plain": [
              "60"
            ]
          },
          "metadata": {},
          "execution_count": 36
        }
      ]
    },
    {
      "cell_type": "code",
      "source": [
        "X_train.shape"
      ],
      "metadata": {
        "colab": {
          "base_uri": "https://localhost:8080/"
        },
        "id": "HQsPKIXsehSP",
        "outputId": "98f41dc3-c1c7-401e-8ee2-f914cbde0c63"
      },
      "execution_count": null,
      "outputs": [
        {
          "output_type": "execute_result",
          "data": {
            "text/plain": [
              "(1702, 60, 1)"
            ]
          },
          "metadata": {},
          "execution_count": 35
        }
      ]
    },
    {
      "cell_type": "code",
      "source": [
        "# The LSTM architecture\n",
        "model_lstm = Sequential()\n",
        "model_lstm.add(LSTM(units=125, activation=\"tanh\", input_shape=(n_steps, features))) #el modelo tiene una sola capa oculta de LSTM y una capa de salida.  units son las neuronas. tanh es default para función de activación.\n",
        "# Compiling the model\n",
        "model_lstm.compile(optimizer=\"RMSprop\", loss=\"mse\")"
      ],
      "metadata": {
        "id": "oMRlYtsKSMMi"
      },
      "execution_count": null,
      "outputs": []
    },
    {
      "cell_type": "code",
      "source": [
        "model_lstm.fit(X_train, y_train, epochs=50, batch_size=32)"
      ],
      "metadata": {
        "colab": {
          "base_uri": "https://localhost:8080/"
        },
        "id": "BcGaXMPqScIb",
        "outputId": "fd037b18-b388-42c1-93c3-1f7018380712"
      },
      "execution_count": null,
      "outputs": [
        {
          "output_type": "stream",
          "name": "stdout",
          "text": [
            "Epoch 1/50\n",
            "54/54 [==============================] - 6s 79ms/step - loss: 0.0133\n",
            "Epoch 2/50\n",
            "54/54 [==============================] - 3s 57ms/step - loss: 0.0028\n",
            "Epoch 3/50\n",
            "54/54 [==============================] - 3s 57ms/step - loss: 0.0022\n",
            "Epoch 4/50\n",
            "54/54 [==============================] - 4s 69ms/step - loss: 0.0017\n",
            "Epoch 5/50\n",
            "54/54 [==============================] - 4s 78ms/step - loss: 0.0016\n",
            "Epoch 6/50\n",
            "54/54 [==============================] - 3s 56ms/step - loss: 0.0014\n",
            "Epoch 7/50\n",
            "54/54 [==============================] - 3s 57ms/step - loss: 0.0014\n",
            "Epoch 8/50\n",
            "54/54 [==============================] - 4s 71ms/step - loss: 0.0011\n",
            "Epoch 9/50\n",
            "54/54 [==============================] - 4s 75ms/step - loss: 0.0011\n",
            "Epoch 10/50\n",
            "54/54 [==============================] - 3s 57ms/step - loss: 9.7417e-04\n",
            "Epoch 11/50\n",
            "54/54 [==============================] - 3s 57ms/step - loss: 0.0010\n",
            "Epoch 12/50\n",
            "54/54 [==============================] - 4s 74ms/step - loss: 9.8798e-04\n",
            "Epoch 13/50\n",
            "54/54 [==============================] - 4s 72ms/step - loss: 9.0796e-04\n",
            "Epoch 14/50\n",
            "54/54 [==============================] - 3s 57ms/step - loss: 8.2907e-04\n",
            "Epoch 15/50\n",
            "54/54 [==============================] - 3s 59ms/step - loss: 8.1542e-04\n",
            "Epoch 16/50\n",
            "54/54 [==============================] - 5s 90ms/step - loss: 7.9563e-04\n",
            "Epoch 17/50\n",
            "54/54 [==============================] - 6s 115ms/step - loss: 7.4460e-04\n",
            "Epoch 18/50\n",
            "54/54 [==============================] - 4s 73ms/step - loss: 8.0432e-04\n",
            "Epoch 19/50\n",
            "54/54 [==============================] - 5s 92ms/step - loss: 6.7748e-04\n",
            "Epoch 20/50\n",
            "54/54 [==============================] - 3s 58ms/step - loss: 7.2583e-04\n",
            "Epoch 21/50\n",
            "54/54 [==============================] - 3s 58ms/step - loss: 7.5784e-04\n",
            "Epoch 22/50\n",
            "54/54 [==============================] - 3s 57ms/step - loss: 6.8150e-04\n",
            "Epoch 23/50\n",
            "54/54 [==============================] - 5s 91ms/step - loss: 6.9164e-04\n",
            "Epoch 24/50\n",
            "54/54 [==============================] - 3s 60ms/step - loss: 6.7031e-04\n",
            "Epoch 25/50\n",
            "54/54 [==============================] - 3s 59ms/step - loss: 6.4092e-04\n",
            "Epoch 26/50\n",
            "54/54 [==============================] - 3s 59ms/step - loss: 5.8717e-04\n",
            "Epoch 27/50\n",
            "54/54 [==============================] - 5s 91ms/step - loss: 6.1099e-04\n",
            "Epoch 28/50\n",
            "54/54 [==============================] - 3s 59ms/step - loss: 5.9526e-04\n",
            "Epoch 29/50\n",
            "54/54 [==============================] - 3s 59ms/step - loss: 5.9969e-04\n",
            "Epoch 30/50\n",
            "54/54 [==============================] - 4s 66ms/step - loss: 5.4723e-04\n",
            "Epoch 31/50\n",
            "54/54 [==============================] - 4s 83ms/step - loss: 5.3454e-04\n",
            "Epoch 32/50\n",
            "54/54 [==============================] - 3s 58ms/step - loss: 5.4338e-04\n",
            "Epoch 33/50\n",
            "54/54 [==============================] - 3s 58ms/step - loss: 5.3843e-04\n",
            "Epoch 34/50\n",
            "54/54 [==============================] - 4s 70ms/step - loss: 5.9004e-04\n",
            "Epoch 35/50\n",
            "54/54 [==============================] - 4s 77ms/step - loss: 5.4924e-04\n",
            "Epoch 36/50\n",
            "54/54 [==============================] - 3s 57ms/step - loss: 5.0836e-04\n",
            "Epoch 37/50\n",
            "54/54 [==============================] - 3s 58ms/step - loss: 5.4163e-04\n",
            "Epoch 38/50\n",
            "54/54 [==============================] - 4s 73ms/step - loss: 4.9331e-04\n",
            "Epoch 39/50\n",
            "54/54 [==============================] - 4s 74ms/step - loss: 5.2244e-04\n",
            "Epoch 40/50\n",
            "54/54 [==============================] - 3s 57ms/step - loss: 4.9176e-04\n",
            "Epoch 41/50\n",
            "54/54 [==============================] - 3s 58ms/step - loss: 4.9784e-04\n",
            "Epoch 42/50\n",
            "54/54 [==============================] - 4s 78ms/step - loss: 4.5887e-04\n",
            "Epoch 43/50\n",
            "54/54 [==============================] - 4s 78ms/step - loss: 4.5390e-04\n",
            "Epoch 44/50\n",
            "54/54 [==============================] - 3s 57ms/step - loss: 5.1540e-04\n",
            "Epoch 45/50\n",
            "54/54 [==============================] - 3s 57ms/step - loss: 4.6512e-04\n",
            "Epoch 46/50\n",
            "54/54 [==============================] - 4s 81ms/step - loss: 4.8083e-04\n",
            "Epoch 47/50\n",
            "54/54 [==============================] - 4s 77ms/step - loss: 4.9126e-04\n",
            "Epoch 48/50\n",
            "54/54 [==============================] - 3s 57ms/step - loss: 4.9012e-04\n",
            "Epoch 49/50\n",
            "54/54 [==============================] - 3s 57ms/step - loss: 4.7906e-04\n",
            "Epoch 50/50\n",
            "54/54 [==============================] - 5s 91ms/step - loss: 4.5489e-04\n"
          ]
        },
        {
          "output_type": "execute_result",
          "data": {
            "text/plain": [
              "<keras.src.callbacks.History at 0x7d3c016aa3b0>"
            ]
          },
          "metadata": {},
          "execution_count": 86
        }
      ]
    },
    {
      "cell_type": "markdown",
      "source": [
        "Ahora normalizamos el dataset de test y aplicamos el modelo al test."
      ],
      "metadata": {
        "id": "GoZvKn-lwV4u"
      }
    },
    {
      "cell_type": "code",
      "source": [
        "#First of all we will transform then split the dataset into samples, reshape it, predict, and inverse transform the predictions into standard form.\n",
        "dataset_total = dataset.loc[:,\"Close\"] #me traigo todos los datos de close.\n",
        "inputs = dataset_total[len(dataset_total) - len(test_set) - n_steps :].values  #Encuentro el punto de partida del primer bloque de 60 valores para entrenar el test set, y a partir de ese punto me armo un vector de test. The statement len(all_data) - len(test_data) - 60 identifies this index for us.\n",
        "inputs = inputs.reshape(-1, 1)\n",
        "#scaling\n",
        "inputs = sc.transform(inputs)\n",
        "\n",
        "# Split into samples\n",
        "X_test, y_test = split_sequence(inputs, n_steps)\n",
        "# reshape\n",
        "X_test = X_test.reshape(X_test.shape[0], X_test.shape[1], features)\n",
        "#prediction\n",
        "predicted_stock_price = model_lstm.predict(X_test)\n",
        "#inverse transform the values\n",
        "predicted_stock_price = sc.inverse_transform(predicted_stock_price)"
      ],
      "metadata": {
        "colab": {
          "base_uri": "https://localhost:8080/"
        },
        "id": "H9XGkYR7SiLy",
        "outputId": "eb99948b-82d5-44aa-d66a-6fd594d030d5"
      },
      "execution_count": null,
      "outputs": [
        {
          "output_type": "stream",
          "name": "stdout",
          "text": [
            "18/18 [==============================] - 1s 30ms/step\n"
          ]
        }
      ]
    },
    {
      "cell_type": "code",
      "source": [
        "def plot_predictions(test, predicted):\n",
        "    plt.plot(test, color=\"gray\", label=\"Real\")\n",
        "    plt.plot(predicted, color=\"red\", label=\"Predicted\")\n",
        "    plt.title(\"MasterCard Stock Price Prediction\")\n",
        "    plt.xlabel(\"Time\")\n",
        "    plt.ylabel(\"MasterCard Stock Price\")\n",
        "    plt.legend()\n",
        "    plt.show()\n",
        "\n",
        "\n",
        "def return_rmse(test, predicted):\n",
        "    rmse = np.sqrt(mean_squared_error(test, predicted))\n",
        "    print(\"The root mean squared error is {:.2f}.\".format(rmse))"
      ],
      "metadata": {
        "id": "FX_sCDkJSqb1"
      },
      "execution_count": null,
      "outputs": []
    },
    {
      "cell_type": "code",
      "source": [
        "plot_predictions(test_set,predicted_stock_price)"
      ],
      "metadata": {
        "colab": {
          "base_uri": "https://localhost:8080/",
          "height": 472
        },
        "id": "tCw69dbjSvqu",
        "outputId": "99064c94-5f9d-4d4d-96ee-f890ff2e3c94"
      },
      "execution_count": null,
      "outputs": [
        {
          "output_type": "display_data",
          "data": {
            "text/plain": [
              "<Figure size 640x480 with 1 Axes>"
            ],
            "image/png": "[encoded data removed]"
          },
          "metadata": {}
        }
      ]
    },
    {
      "cell_type": "code",
      "source": [
        "return_rmse(test_set,predicted_stock_price)"
      ],
      "metadata": {
        "colab": {
          "base_uri": "https://localhost:8080/"
        },
        "id": "PVVVh-tMSz1_",
        "outputId": "73f57d35-b681-41ba-a6f9-7b5334e13382"
      },
      "execution_count": null,
      "outputs": [
        {
          "output_type": "stream",
          "name": "stdout",
          "text": [
            "The root mean squared error is 6.89.\n"
          ]
        }
      ]
    },
    {
      "cell_type": "markdown",
      "source": [
        "##Anexo: gráfico de tanhn (hyperbolic tangent)"
      ],
      "metadata": {
        "id": "a0CEJ3ltXXq2"
      }
    },
    {
      "cell_type": "code",
      "source": [
        "import numpy as np\n",
        "import matplotlib.pyplot as plt\n",
        "\n",
        "# Hyperbolic Tangent (htan) Activation Function\n",
        "def htan(x):\n",
        "  return (np.exp(x) - np.exp(-x))/(np.exp(x) + np.exp(-x))\n",
        "\n",
        "# htan derivative\n",
        "def der_htan(x):\n",
        "  return 1 - htan(x) * htan(x)\n",
        "\n",
        "# Generating data for Graph\n",
        "x_data = np.linspace(-6,6,100)\n",
        "y_data = htan(x_data)\n",
        "dy_data = der_htan(x_data)\n",
        "\n",
        "# Graph\n",
        "plt.plot(x_data, y_data, x_data, dy_data)\n",
        "plt.title('htan Activation Function & Derivative')\n",
        "plt.legend(['htan','der_htan'])\n",
        "plt.grid()\n",
        "plt.show()"
      ],
      "metadata": {
        "colab": {
          "base_uri": "https://localhost:8080/",
          "height": 452
        },
        "id": "Whn8q5zJXWaI",
        "outputId": "c02fa458-a6bb-4827-f055-68c882860516"
      },
      "execution_count": null,
      "outputs": [
        {
          "output_type": "display_data",
          "data": {
            "text/plain": [
              "<Figure size 640x480 with 1 Axes>"
            ],
            "image/png": "[encoded data removed]"
          },
          "metadata": {}
        }
      ]
    }
  ],
  "metadata": {
    "colab": {
      "provenance": [],
      "include_colab_link": true
    },
    "kernelspec": {
      "display_name": "Python 3",
      "name": "python3"
    },
    "language_info": {
      "name": "python"
    }
  },
  "nbformat": 4,
  "nbformat_minor": 0
}