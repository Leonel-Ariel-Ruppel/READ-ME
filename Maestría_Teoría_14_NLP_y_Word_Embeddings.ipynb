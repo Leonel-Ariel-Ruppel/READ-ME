{
  "nbformat": 4,
  "nbformat_minor": 0,
  "metadata": {
    "colab": {
      "provenance": [],
      "include_colab_link": true
    },
    "kernelspec": {
      "name": "python3",
      "display_name": "Python 3"
    },
    "language_info": {
      "name": "python"
    }
  },
  "cells": [
    {
      "cell_type": "markdown",
      "metadata": {
        "id": "view-in-github",
        "colab_type": "text"
      },
      "source": [
        "<a href=\"https://colab.research.google.com/github/Leonel-Ariel-Ruppel/READ-ME/blob/main/Maestr%C3%ADa_Teor%C3%ADa_14_NLP_y_Word_Embeddings.ipynb\" target=\"_parent\"><img src=\"https://colab.research.google.com/assets/colab-badge.svg\" alt=\"Open In Colab\"/></a>"
      ]
    },
    {
      "cell_type": "markdown",
      "source": [
        "#Word Embeddings"
      ],
      "metadata": {
        "id": "ZCaSp_HKx0Ne"
      }
    },
    {
      "cell_type": "markdown",
      "source": [
        "Word Embeddings es una mejora con respecto a los esquemas más simples de word encoder, como el recuento de palabras y de frecuencias, que dan como resultado vectores grandes y dispersos (principalmente valores 0) que describen documentos pero no el significado de las palabras.\n",
        "\n",
        "El Word Embedding designa un conjunto de métodos de aprendizaje que pretende representar las palabras de un texto mediante vectores de números reales. Word embeddings funcionan mediante el uso de un algoritmo para entrenar un conjunto de vectores de longitud fija y de valores continuos basados ​​en un gran corpus de texto. Cada palabra está representada por un punto en el espacio de embeddings y estos puntos se aprenden y se mueven en función de las palabras que rodean la palabra objetivo.\n",
        "\n",
        "Define una palabra por parte del contexto que tiene, lo cual permite que el word embedding aprenda algo sobre el significado de las palabras. La representación vectorial de las palabras proporciona una proyección donde las palabras con significados similares se agrupan dentro del espacio."
      ],
      "metadata": {
        "id": "oCOYpY2oetTG"
      }
    },
    {
      "cell_type": "markdown",
      "source": [
        "## Preprocesamiento de texto"
      ],
      "metadata": {
        "id": "-F639S_iZtv4"
      }
    },
    {
      "cell_type": "markdown",
      "source": [
        "El procesamiento del lenguaje natural, o PNL, es un campo de la IA que tiene como objetivo comprender la semántica y las connotaciones de los lenguajes humanos naturales. El campo interdisciplinario combina técnicas de los campos de la lingüística y la informática, que se utilizan para crear tecnologías como chatbots y asistentes digitales.\n",
        "\n",
        "###Natural Language Toolkit (NLTK)\n",
        "\n",
        "se considera ampliamente la mejor librería de Python para NLP. NLTK es una librería esencial que admite tareas como clasificación, etiquetado, derivación, análisis y razonamiento semántico. A menudo lo eligen los principiantes que buscan involucrarse en los campos de la PNL y el aprendizaje automático.\n",
        "\n",
        "###SpaCy\n",
        "Es una librería NLP de código abierto diseñada explícitamente para uso en producción. SpaCy permite a los desarrolladores crear aplicaciones que pueden procesar y comprender grandes volúmenes de texto. La librería de Python se usa a menudo para construir sistemas de comprensión del lenguaje natural y sistemas de extracción de información.\n",
        "Uno de los otros beneficios principales de spaCy es que admite tokenización para más de 49 idiomas gracias a que está cargado con modelos estadísticos y vectores de palabras previamente entrenados. Algunos de los principales casos de uso de spaCy incluyen autocompletado de búsqueda, autocorrección, análisis de reseñas en línea, extracción de temas clave y mucho más.\n",
        "\n",
        "###Gensim.\n",
        "Originalmente desarrollada para el modelado de temas, la librería ahora se usa para una variedad de tareas de NLP, como la indexación de documentos.\n"
      ],
      "metadata": {
        "id": "5sBeV_DcaUUL"
      }
    },
    {
      "cell_type": "code",
      "source": [
        "pip install --upgrade gensim"
      ],
      "metadata": {
        "colab": {
          "base_uri": "https://localhost:8080/"
        },
        "id": "JIow2F2XfcyC",
        "outputId": "d6a8885e-4edb-40bf-d288-053d674e6352"
      },
      "execution_count": null,
      "outputs": [
        {
          "output_type": "stream",
          "name": "stdout",
          "text": [
            "Requirement already satisfied: gensim in /usr/local/lib/python3.10/dist-packages (4.3.2)\n",
            "Requirement already satisfied: numpy>=1.18.5 in /usr/local/lib/python3.10/dist-packages (from gensim) (1.25.2)\n",
            "Requirement already satisfied: scipy>=1.7.0 in /usr/local/lib/python3.10/dist-packages (from gensim) (1.11.4)\n",
            "Requirement already satisfied: smart-open>=1.8.1 in /usr/local/lib/python3.10/dist-packages (from gensim) (6.4.0)\n"
          ]
        }
      ]
    },
    {
      "cell_type": "code",
      "source": [
        "pip install nltk #Natural Language Toolkit"
      ],
      "metadata": {
        "colab": {
          "base_uri": "https://localhost:8080/"
        },
        "id": "0M08ddVN6_V_",
        "outputId": "6f26acb5-d6b1-47a0-912e-b91504dcb973"
      },
      "execution_count": null,
      "outputs": [
        {
          "output_type": "stream",
          "name": "stdout",
          "text": [
            "Requirement already satisfied: nltk in /usr/local/lib/python3.10/dist-packages (3.8.1)\n",
            "Requirement already satisfied: click in /usr/local/lib/python3.10/dist-packages (from nltk) (8.1.7)\n",
            "Requirement already satisfied: joblib in /usr/local/lib/python3.10/dist-packages (from nltk) (1.4.0)\n",
            "Requirement already satisfied: regex>=2021.8.3 in /usr/local/lib/python3.10/dist-packages (from nltk) (2023.12.25)\n",
            "Requirement already satisfied: tqdm in /usr/local/lib/python3.10/dist-packages (from nltk) (4.66.2)\n"
          ]
        }
      ]
    },
    {
      "cell_type": "code",
      "source": [
        "import pandas as pd\n",
        "import numpy as np\n",
        "\n",
        "from gensim.models import Word2Vec\n",
        "import gensim\n",
        "\n",
        "from nltk.tokenize import sent_tokenize, word_tokenize\n",
        "import warnings\n",
        "import nltk\n",
        "nltk.download('punkt')"
      ],
      "metadata": {
        "id": "PhBXzrYjx7Vf",
        "colab": {
          "base_uri": "https://localhost:8080/"
        },
        "outputId": "b2c2629a-85a6-436c-d84a-0fd3f8109fd9"
      },
      "execution_count": null,
      "outputs": [
        {
          "output_type": "stream",
          "name": "stderr",
          "text": [
            "[nltk_data] Downloading package punkt to /root/nltk_data...\n",
            "[nltk_data]   Unzipping tokenizers/punkt.zip.\n"
          ]
        },
        {
          "output_type": "execute_result",
          "data": {
            "text/plain": [
              "True"
            ]
          },
          "metadata": {},
          "execution_count": 1
        }
      ]
    },
    {
      "cell_type": "markdown",
      "source": [
        "##Tokenización"
      ],
      "metadata": {
        "id": "iYUOpdTDam53"
      }
    },
    {
      "cell_type": "code",
      "source": [
        "text = '''En el último año, el precio de los combustibles subió 156 puntos porcentuales más que el de los salarios.'''\n",
        "char_remov = [\".\", \",\"]\n",
        "for char in char_remov:\n",
        "  text = text.replace(char, \"\")\n",
        "text = text.lower()\n",
        "print(word_tokenize(text))"
      ],
      "metadata": {
        "colab": {
          "base_uri": "https://localhost:8080/"
        },
        "id": "8diVAoUhe3Eb",
        "outputId": "2bae223f-a8a5-4b4c-e208-cd0cde1661e0"
      },
      "execution_count": null,
      "outputs": [
        {
          "output_type": "stream",
          "name": "stdout",
          "text": [
            "['en', 'el', 'último', 'año', 'el', 'precio', 'de', 'los', 'combustibles', 'subió', '156', 'puntos', 'porcentuales', 'más', 'que', 'el', 'de', 'los', 'salarios']\n"
          ]
        }
      ]
    },
    {
      "cell_type": "code",
      "source": [
        "text = \"Down, down, down. Would the fall _never_ come to an end?\"\n",
        "print(sent_tokenize(text))"
      ],
      "metadata": {
        "colab": {
          "base_uri": "https://localhost:8080/"
        },
        "id": "jqW9eK_BieOm",
        "outputId": "5db1ca02-c121-46c9-b6f4-3b7beaa02f1e"
      },
      "execution_count": null,
      "outputs": [
        {
          "output_type": "stream",
          "name": "stdout",
          "text": [
            "['Down, down, down.', 'Would the fall _never_ come to an end?']\n"
          ]
        }
      ]
    },
    {
      "cell_type": "markdown",
      "source": [
        "##Limpieza de stopwords"
      ],
      "metadata": {
        "id": "pL0Otk9xDLIL"
      }
    },
    {
      "cell_type": "code",
      "source": [
        "from nltk.corpus import stopwords\n",
        "import nltk\n",
        "nltk.download('stopwords')\n",
        "\n",
        "example_sent = \"\"\"Es muy alegre, adora el amarillo, su pájaro es el mirlo, su hora la noche, su puente el Pont des Arts.\"\"\"\n",
        "example_sent = example_sent.lower().replace(\",\", \"\")\n",
        "\n",
        "stop_words = set(stopwords.words('spanish'))\n",
        "\n",
        "word_tokens = word_tokenize(example_sent)\n",
        "#converts the words in word_tokens to lower case and then checks whether\n",
        "#they are present in stop_words or not\n",
        "\n",
        "filtered_sentence = [w for w in word_tokens if not w.lower() in stop_words]\n",
        "#with no lower case conversion\n",
        "\n",
        "filtered_sentence = []\n",
        "\n",
        "for w in word_tokens:\n",
        "    if w not in stop_words:\n",
        "        filtered_sentence.append(w)\n",
        "\n",
        "print(word_tokens)\n",
        "print(filtered_sentence)"
      ],
      "metadata": {
        "colab": {
          "base_uri": "https://localhost:8080/"
        },
        "id": "Aj-MVN7jBYhv",
        "outputId": "bd4a82c5-2fba-4c1f-e24d-663d497fa436"
      },
      "execution_count": null,
      "outputs": [
        {
          "output_type": "stream",
          "name": "stdout",
          "text": [
            "['es', 'muy', 'alegre', 'adora', 'el', 'amarillo', 'su', 'pájaro', 'es', 'el', 'mirlo', 'su', 'hora', 'la', 'noche', 'su', 'puente', 'el', 'pont', 'des', 'arts', '.']\n",
            "['alegre', 'adora', 'amarillo', 'pájaro', 'mirlo', 'hora', 'noche', 'puente', 'pont', 'des', 'arts', '.']\n"
          ]
        },
        {
          "output_type": "stream",
          "name": "stderr",
          "text": [
            "[nltk_data] Downloading package stopwords to /root/nltk_data...\n",
            "[nltk_data]   Unzipping corpora/stopwords.zip.\n"
          ]
        }
      ]
    },
    {
      "cell_type": "markdown",
      "source": [
        "##Keywords\n",
        "\n",
        "Yake es un método no supervisado de extracción automática de palabras clave  que se basa en características estadísticas de texto extraídas de documentos individuales para seleccionar las palabras clave más importantes de un texto."
      ],
      "metadata": {
        "id": "MhTfjIlegRjA"
      }
    },
    {
      "cell_type": "code",
      "source": [
        "pip install yake"
      ],
      "metadata": {
        "colab": {
          "base_uri": "https://localhost:8080/"
        },
        "id": "w9vJgidF9cIy",
        "outputId": "fa112309-f2ff-40b6-e0eb-b61942e84c01"
      },
      "execution_count": null,
      "outputs": [
        {
          "output_type": "stream",
          "name": "stdout",
          "text": [
            "Collecting yake\n",
            "  Downloading yake-0.4.8-py2.py3-none-any.whl (60 kB)\n",
            "\u001b[?25l     \u001b[90m━━━━━━━━━━━━━━━━━━━━━━━━━━━━━━━━━━━━━━━━\u001b[0m \u001b[32m0.0/60.2 kB\u001b[0m \u001b[31m?\u001b[0m eta \u001b[36m-:--:--\u001b[0m\r\u001b[2K     \u001b[90m━━━━━━━━━━━━━━━━━━━━━━━━━━━━━━━━━━━━━━━━\u001b[0m \u001b[32m60.2/60.2 kB\u001b[0m \u001b[31m1.9 MB/s\u001b[0m eta \u001b[36m0:00:00\u001b[0m\n",
            "\u001b[?25hRequirement already satisfied: tabulate in /usr/local/lib/python3.10/dist-packages (from yake) (0.9.0)\n",
            "Requirement already satisfied: click>=6.0 in /usr/local/lib/python3.10/dist-packages (from yake) (8.1.7)\n",
            "Requirement already satisfied: numpy in /usr/local/lib/python3.10/dist-packages (from yake) (1.25.2)\n",
            "Collecting segtok (from yake)\n",
            "  Downloading segtok-1.5.11-py3-none-any.whl (24 kB)\n",
            "Requirement already satisfied: networkx in /usr/local/lib/python3.10/dist-packages (from yake) (3.3)\n",
            "Collecting jellyfish (from yake)\n",
            "  Downloading jellyfish-1.0.3-cp310-cp310-manylinux_2_17_x86_64.manylinux2014_x86_64.whl (1.2 MB)\n",
            "\u001b[2K     \u001b[90m━━━━━━━━━━━━━━━━━━━━━━━━━━━━━━━━━━━━━━━━\u001b[0m \u001b[32m1.2/1.2 MB\u001b[0m \u001b[31m28.5 MB/s\u001b[0m eta \u001b[36m0:00:00\u001b[0m\n",
            "\u001b[?25hRequirement already satisfied: regex in /usr/local/lib/python3.10/dist-packages (from segtok->yake) (2023.12.25)\n",
            "Installing collected packages: segtok, jellyfish, yake\n",
            "Successfully installed jellyfish-1.0.3 segtok-1.5.11 yake-0.4.8\n"
          ]
        }
      ]
    },
    {
      "cell_type": "code",
      "source": [
        "import yake"
      ],
      "metadata": {
        "id": "nZE6nIWZh1G6"
      },
      "execution_count": null,
      "outputs": []
    },
    {
      "cell_type": "code",
      "source": [
        "title = \"VECTORIZATION OF TEXT USING DATA MINING METHODS\"\n",
        "text = '''In the text mining tasks, textual representation should be not only efficient but also interpretable,\n",
        "        as this enables an understanding of the operational logic underlying the data mining models.\n",
        "        Traditional text vectorization methods such as TF-IDF and bag-of-words are effective and\n",
        "        characterized by intuitive interpretability, but suffer from the «curse of dimensionality»,\n",
        "        and they are unable to capture the meanings of words. On the other hand, modern distributed methods\n",
        "        effectively capture the hidden semantics, but they are computationally intensive, time-consuming,\n",
        "        and uninterpretable. This article proposes a new text vectorization method called Bag of weighted Concepts BoWC\n",
        "        that presents a document according to the concepts’ information it contains. The proposed method creates concepts\n",
        "        by clustering word vectors (i.e. word embedding) then uses the frequencies of these concept clusters to represent\n",
        "        document vectors. To enrich the resulted document representation, a new modified weighting function is proposed\n",
        "        for weighting concepts based on statistics extracted from word embedding information. The generated vectors are\n",
        "        characterized by interpretability, low dimensionality, high accuracy, and low computational costs when used in\n",
        "        data mining tasks. The proposed method has been tested on five different benchmark datasets in two data mining\n",
        "        tasks; document clustering and classification, and compared with several baselines, including Bag-of-words, TF-IDF,\n",
        "        Averaged GloVe, Bag-of-Concepts, and VLAC. The results indicate that BoWC outperforms most baselines and gives 7% better accuracy on average'''\n",
        "full_text = title +\", \"+ text\n",
        "print(\"The whole text to be usedn\",full_text)"
      ],
      "metadata": {
        "colab": {
          "base_uri": "https://localhost:8080/"
        },
        "id": "ulQrAmGb9XF2",
        "outputId": "649be2b3-86a8-4f5a-a1f1-bfdb88d2ea93"
      },
      "execution_count": null,
      "outputs": [
        {
          "output_type": "stream",
          "name": "stdout",
          "text": [
            "The whole text to be usedn VECTORIZATION OF TEXT USING DATA MINING METHODS, In the text mining tasks, textual representation should be not only efficient but also interpretable, as this enables an understanding of the operational logic underlying the data mining models. Traditional text vectorization methods such as TF-IDF and bag-of-words are effective and characterized by intuitive interpretability, but suffer from the «curse of dimensionality», and they are unable to capture the meanings of words. On the other hand, modern distributed methods effectively capture the hidden semantics, but they are computationally intensive, time-consuming, and uninterpretable. This article proposes a new text vectorization method called Bag of weighted Concepts BoWC that presents a document according to the concepts’ information it contains. The proposed method creates concepts by clustering word vectors (i.e. word embedding) then uses the frequencies of these concept clusters to represent document vectors. To enrich the resulted document representation, a new modified weighting function is proposed for weighting concepts based on statistics extracted from word embedding information. The generated vectors are characterized by interpretability, low dimensionality, high accuracy, and low computational costs when used in data mining tasks. The proposed method has been tested on five different benchmark datasets in two data mining tasks; document clustering and classification, and compared with several baselines, including Bag-of-words, TF-IDF, Averaged GloVe, Bag-of-Concepts, and VLAC. The results indicate that BoWC outperforms most baselines and gives 7% better accuracy on average\n"
          ]
        }
      ]
    },
    {
      "cell_type": "code",
      "source": [
        "kw_extractor = yake.KeywordExtractor(top=10, stopwords=None)\n",
        "keywords = kw_extractor.extract_keywords(full_text)\n",
        "for kw, v in keywords:\n",
        "  print(\"Keyphrase: \",kw, \": score\", v)"
      ],
      "metadata": {
        "colab": {
          "base_uri": "https://localhost:8080/"
        },
        "id": "Ywj6rJrf-8zY",
        "outputId": "5f25a841-6e2d-4c15-974c-05778ddbd5f8"
      },
      "execution_count": null,
      "outputs": [
        {
          "output_type": "stream",
          "name": "stdout",
          "text": [
            "Keyphrase:  operational logic underlying : score 0.008502958451052589\n",
            "Keyphrase:  text vectorization methods : score 0.015613284939549285\n",
            "Keyphrase:  text vectorization : score 0.02310717508615897\n",
            "Keyphrase:  Traditional text vectorization : score 0.02325791341228692\n",
            "Keyphrase:  data mining models : score 0.02830809004349318\n",
            "Keyphrase:  data mining tasks : score 0.033863083795882626\n",
            "Keyphrase:  DATA MINING : score 0.03618462463953267\n",
            "Keyphrase:  text mining tasks : score 0.037652251074155374\n",
            "Keyphrase:  enables an understanding : score 0.04036782511075581\n",
            "Keyphrase:  operational logic : score 0.04036782511075581\n"
          ]
        }
      ]
    },
    {
      "cell_type": "markdown",
      "source": [
        "##Word Cloud"
      ],
      "metadata": {
        "id": "KVBPCb7Eh4PC"
      }
    },
    {
      "cell_type": "code",
      "source": [
        "# Importing libraries\n",
        "from wordcloud import WordCloud\n",
        "import matplotlib.pyplot as plt\n",
        "import yake\n",
        "\n",
        "# Initializing the YAKE instance\n",
        "yake_kw = yake.KeywordExtractor()\n",
        "\n",
        "# Input text\n",
        "input_text = '''\n",
        "NLP stands for Natural Language Processing.\n",
        "It is the branch of Artificial Intelligence that gives the ability to machine understand\n",
        "and process human languages. Human languages can be in the form of text or audio format.\n",
        "Natural Language Processing started in 1950 When Alan Mathison Turing published\n",
        "an article in the name Computing Machinery and Intelligence.\n",
        "It is based on Artificial intelligence. It talks about automatic interpretation and\n",
        "generation of natural language.\n",
        "As the technology evolved, different approaches have come to deal with NLP tasks.\n",
        "'''\n",
        "\n",
        "# Extracting keywords\n",
        "KeyWords = yake_kw.extract_keywords(input_text)\n",
        "\n",
        "# Displaying the keywords\n",
        "print(KeyWords)\n",
        "\n",
        "# Extracting keywords\n",
        "keywords = [kw for kw, _ in KeyWords] #extraigo las palabras individuales de los tuples (frases) dentro de keywords\n",
        "\n",
        "# Generate WordCloud\n",
        "wordcloud = WordCloud().generate(' '.join(keywords)) #voy armando con la funcion generate un string formado de las palabras separadas por el espacio.\n",
        "\n",
        "# WordCloud.  el tamaño de las palabras depende la frecuencia que tiene cada una.\n",
        "plt.figure(figsize=(10, 10))\n",
        "plt.imshow(wordcloud, interpolation='bilinear') #bilinear interpolation sirve para ubicar las palabras de acuerdo a sus valores entre los ejes\n",
        "plt.axis('off')\n",
        "plt.show()"
      ],
      "metadata": {
        "colab": {
          "base_uri": "https://localhost:8080/",
          "height": 461
        },
        "id": "MapRlNfS-bFm",
        "outputId": "3032c949-d06c-46d0-ce4a-f16b8fba82e3"
      },
      "execution_count": null,
      "outputs": [
        {
          "output_type": "stream",
          "name": "stdout",
          "text": [
            "[('Natural Language Processing', 0.02100249013859125), ('Language Processing', 0.04163335302639552), ('Natural Language', 0.048148820863336377), ('Artificial Intelligence', 0.06657427591685054), ('Alan Mathison Turing', 0.06812525384060124), ('Language Processing started', 0.07604425290902747), ('human languages', 0.08215351904804695), ('NLP stands', 0.09173112596477705), ('Language', 0.10178153594306494), ('process human languages', 0.11865807800247614), ('Processing', 0.12586811799925435), ('Intelligence', 0.12825620909446891), ('Natural', 0.13778435888897436), ('Alan Mathison', 0.15153101048626974), ('Mathison Turing', 0.15153101048626974), ('Computing Machinery', 0.15153101048626974), ('Mathison Turing published', 0.15160281730925312), ('languages', 0.1526723039145974), ('Artificial', 0.15269328890550202), ('NLP', 0.18058428305612767)]\n"
          ]
        },
        {
          "output_type": "display_data",
          "data": {
            "text/plain": [
              "<Figure size 1000x1000 with 1 Axes>"
            ],
            "image/png": "[encoded data removed]"
          },
          "metadata": {}
        }
      ]
    },
    {
      "cell_type": "markdown",
      "source": [
        "Vamos a ver ejemplos de CBOW (Continuous Bag of Words) y SG (Skip Grams), dos métodos de word2vec, .  \n",
        "\n"
      ],
      "metadata": {
        "id": "wPzc92xKhjXP"
      }
    },
    {
      "cell_type": "markdown",
      "source": [
        "## Similitud de Coseno"
      ],
      "metadata": {
        "id": "V510W1BOhP95"
      }
    },
    {
      "cell_type": "markdown",
      "source": [
        "La similitud del coseno se utiliza frecuentemente en el procesamiento del lenguaje natural (PLN) para medir distancias entre documentos y textos. La similitud entre dos vectores en un espacio producto interno se mide mediante la similitud del coseno.  Analiza si dos vectores apuntan aproximadamente  en la misma dirección midiendo el coseno del ángulo entre ellos. En el análisis de texto, se utiliza con frecuencia para medir la similitud de documentos.  Es una buena métrica para manejar efectos de escala y longitud, y se recomienda cuando la magnitud de las características no importa.  Por ejemplo, la similitud del coseno puede encontrar que un gato se parece más a un tigre porque ambos pertenecen a la familia felina."
      ],
      "metadata": {
        "id": "oSQH2vuOf5zk"
      }
    },
    {
      "cell_type": "code",
      "source": [
        "Amazon = pd.read_csv(\"https://raw.githubusercontent.com/Lashanghainesa/dataset/main/Reviews.csv\")\n",
        "print(Amazon.head())"
      ],
      "metadata": {
        "colab": {
          "base_uri": "https://localhost:8080/"
        },
        "id": "S4FqmEXCu7d3",
        "outputId": "d841fb60-161f-44e1-f424-060ce9e140b1"
      },
      "execution_count": null,
      "outputs": [
        {
          "output_type": "stream",
          "name": "stdout",
          "text": [
            "                                                Text\n",
            "0  I have bought several of the Vitality canned d...\n",
            "1  Product arrived labeled as Jumbo Salted Peanut...\n",
            "2  This is a confection that has been around a fe...\n",
            "3  If you are looking for the secret ingredient i...\n",
            "4  Great taffy at a great price.  There was a wid...\n"
          ]
        }
      ]
    },
    {
      "cell_type": "markdown",
      "source": [
        "creamos lista de palabras que tiene el corpus:"
      ],
      "metadata": {
        "id": "5AqLc3jtYWjW"
      }
    },
    {
      "cell_type": "code",
      "source": [
        "corpus_text = 'n'.join(Amazon[:1000]['Text'])\n",
        "data = []\n",
        "# iterate through each sentence in the file\n",
        "for i in sent_tokenize(corpus_text):\n",
        "    temp = []\n",
        "    # tokenize the sentence into words\n",
        "    for j in word_tokenize(i):\n",
        "        temp.append(j.lower())\n",
        "    data.append(temp)"
      ],
      "metadata": {
        "id": "J0e4TVxtvyVO"
      },
      "execution_count": null,
      "outputs": []
    },
    {
      "cell_type": "markdown",
      "source": [
        "Existen dos variantes de Word2vec, Continuous Bag Of Words (CBOW) y Skip-gram.\n",
        "\n",
        "En la siguiente imagen, la palabra del recuadro azul se llama palabra objetivo y las palabras de los recuadros blancos se llaman palabras de contexto en una ventana de tamaño 5.\n",
        "\n",
        "![image.png](data:image/png;base64,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)\n",
        "\n",
        "\n",
        "CBOW : El modelo se alimenta del contexto y predice la palabra objetivo. El resultado de la capa oculta es la nueva representación de la palabra (ℎ1, …, ℎ𝑁).\n",
        "\n",
        "Skip Gram: El modelo se alimenta de la palabra objetivo y predice las palabras del contexto. El resultado de la capa oculta es la nueva representación de la palabra (ℎ1, …, ℎ𝑁)."
      ],
      "metadata": {
        "id": "ElknCZrfoC9P"
      }
    },
    {
      "cell_type": "markdown",
      "source": [
        "###Construir modelo de Word2Vec utilizando Gensim\n",
        "\n"
      ],
      "metadata": {
        "id": "3l43pd1GYYV9"
      }
    },
    {
      "cell_type": "markdown",
      "source": [
        "Principales parámetros del modelo:\n",
        "\n",
        "size: (default 100) número de dimensiones del embedding, es decir, el tamaño del vector dense que representa cada palabra.\n",
        "\n",
        "window: (default 5) la máxima distancia entre la palabra objetivo y las palabras de contexto.\n",
        "\n",
        "min_count: (default 5) Cantidad mínima de palabras que aparecen para el entrenamiento.  Si una palabra aparece menos de este número, no será considerada.  \n",
        "\n",
        "sg: (default 0 or CBOW) algoritmo de entrenamiento, CBOW (0) o skip gram (1)."
      ],
      "metadata": {
        "id": "RmPs6-kkmS55"
      }
    },
    {
      "cell_type": "code",
      "source": [
        "# Create CBOW model\n",
        "#cuando seteamos min_count = 1 estamos usando todas las palabras.\n",
        "#vector_size = 100 cada palabra será reprensentada por un vector dense de este tamaño.\n",
        "model1 = gensim.models.Word2Vec(data, min_count = 1, vector_size = 100, window = 5, sg=0)"
      ],
      "metadata": {
        "id": "zsp8j3b0v4e0"
      },
      "execution_count": null,
      "outputs": []
    },
    {
      "cell_type": "markdown",
      "source": [
        "Luego del entrenamiento, model1 va a contener el word embeddings aprendido que mapea las palabras a los vectores dense en un espacio vectorial continuo, que podrá ser utilizado para varias tareas de NLP como similitud/analogía entre palabras o como input feature para los modelos de machine learning."
      ],
      "metadata": {
        "id": "RdWCH0RjMMIH"
      }
    },
    {
      "cell_type": "code",
      "source": [
        "# Print results\n",
        "print(\"Cosine similarity between 'peanut' \" +\n",
        "      \"and 'butter' - CBOW : \",\n",
        "      model1.wv.similarity('peanut', 'butter'))\n",
        "\n",
        "print(\"Cosine similarity between 'great' \" +\n",
        "      \"and 'price' - CBOW : \",\n",
        "      model1.wv.similarity('great', 'price'))"
      ],
      "metadata": {
        "id": "JuzGAf3c6uMh",
        "colab": {
          "base_uri": "https://localhost:8080/"
        },
        "outputId": "187ea22a-2b4c-4d09-f5f3-40b45233db12"
      },
      "execution_count": null,
      "outputs": [
        {
          "output_type": "stream",
          "name": "stdout",
          "text": [
            "Cosine similarity between 'peanut' and 'butter' - CBOW :  0.99576354\n",
            "Cosine similarity between 'great' and 'price' - CBOW :  0.99939173\n"
          ]
        }
      ]
    },
    {
      "cell_type": "code",
      "source": [
        "# Create Skip Gram model\n",
        "model2 = gensim.models.Word2Vec(data, min_count = 1, vector_size = 100,window = 5, sg = 1)"
      ],
      "metadata": {
        "id": "iOAuXRH5v4SG"
      },
      "execution_count": null,
      "outputs": []
    },
    {
      "cell_type": "code",
      "source": [
        "# Print results\n",
        "print(\"Cosine similarity between 'peanut' \" +\n",
        "      \"and 'butter' - Skip Gram : \",\n",
        "      model2.wv.similarity('peanut', 'butter'))\n",
        "\n",
        "print(\"Cosine similarity between 'great' \" +\n",
        "      \"and 'price' - Skip Gram : \",\n",
        "      model2.wv.similarity('great', 'price'))"
      ],
      "metadata": {
        "id": "ZShgJUK76037",
        "colab": {
          "base_uri": "https://localhost:8080/"
        },
        "outputId": "bfd83fba-de16-4554-d207-6b2e34ea8873"
      },
      "execution_count": null,
      "outputs": [
        {
          "output_type": "stream",
          "name": "stdout",
          "text": [
            "Cosine similarity between 'peanut' and 'butter' - Skip Gram :  0.99437195\n",
            "Cosine similarity between 'great' and 'price' - Skip Gram :  0.95197165\n"
          ]
        }
      ]
    },
    {
      "cell_type": "markdown",
      "source": [
        "##Análisis de sentimiento"
      ],
      "metadata": {
        "id": "h93Kgt_XxyVu"
      }
    },
    {
      "cell_type": "markdown",
      "source": [
        "## Utilizando modelo de BOW"
      ],
      "metadata": {
        "id": "Sx77Hx291gZJ"
      }
    },
    {
      "cell_type": "code",
      "source": [
        "from sklearn.feature_extraction.text import CountVectorizer\n",
        "from nltk.tokenize import RegexpTokenizer #RegexpTokenizer es una clase especial dentro de nltk\n",
        "import pandas as pd\n",
        "from sklearn.model_selection import train_test_split\n",
        "from sklearn.naive_bayes import MultinomialNB\n",
        "from sklearn import metrics"
      ],
      "metadata": {
        "id": "IsbuyR4vzeh3"
      },
      "execution_count": null,
      "outputs": []
    },
    {
      "cell_type": "code",
      "source": [
        "#Dataset de review de peliculas\n",
        "Movie_data = pd.read_csv(\"https://raw.githubusercontent.com/Lashanghainesa/dataset/main/IMDB%20Dataset.csv\")\n",
        "print(Movie_data.head())"
      ],
      "metadata": {
        "colab": {
          "base_uri": "https://localhost:8080/"
        },
        "id": "2DT022NmlG3E",
        "outputId": "93fa3ccb-404b-4178-ed08-8fcce9474fd8"
      },
      "execution_count": null,
      "outputs": [
        {
          "output_type": "stream",
          "name": "stdout",
          "text": [
            "                                            Sentence Sentiment\n",
            "0  AVP2 is an awful movie. The dialogue was point...  negative\n",
            "1  i stopped this movie at 48 minutes and change....  negative\n",
            "2  No, *Hitch* is decidedly NOT a romantic-comedy...  negative\n",
            "3  Based on the Korean legend, unknown creatures ...  negative\n",
            "4  I'm not a big fan of the Stooges' slapstick, b...  negative\n"
          ]
        }
      ]
    },
    {
      "cell_type": "code",
      "source": [
        "#Pre-Processing and Bag of Word Vectorization using Count Vectorizer\n",
        "token = RegexpTokenizer(r'[a-zA-Z0-9]+') #[a-zA-Z0-9]+ indica que el tokenizer separa las palabras alfanuméricas y descarta los signos de puntuación.\n",
        "cv = CountVectorizer(stop_words='english', ngram_range = (1,1),tokenizer = token.tokenize) #ngram_range = (1,1) significa que considera palabra por palabra.  ngram_range = (1,2) sería considerar bigrams.\n",
        "text_counts = cv.fit_transform(Movie_data['Sentence'])"
      ],
      "metadata": {
        "colab": {
          "base_uri": "https://localhost:8080/"
        },
        "id": "ys82p-MlzV7f",
        "outputId": "7c185e19-fdf0-46bd-da97-5e91ce24eae5"
      },
      "execution_count": null,
      "outputs": [
        {
          "output_type": "stream",
          "name": "stderr",
          "text": [
            "/usr/local/lib/python3.10/dist-packages/sklearn/feature_extraction/text.py:528: UserWarning: The parameter 'token_pattern' will not be used since 'tokenizer' is not None'\n",
            "  warnings.warn(\n"
          ]
        }
      ]
    },
    {
      "cell_type": "code",
      "source": [
        "#Splitting the data into trainig and testing\n",
        "X_train, X_test, Y_train, Y_test = train_test_split(text_counts, Movie_data['Sentiment'], test_size=0.25, random_state=5)"
      ],
      "metadata": {
        "id": "I2uJ-LuQ0OLF"
      },
      "execution_count": null,
      "outputs": []
    },
    {
      "cell_type": "code",
      "source": [
        "#Entrenar el modelo usando Multinomial Naive Bayes classifier\n",
        "MNB = MultinomialNB()\n",
        "MNB.fit(X_train, Y_train)"
      ],
      "metadata": {
        "colab": {
          "base_uri": "https://localhost:8080/",
          "height": 75
        },
        "id": "ov_Gzqvi1CQw",
        "outputId": "9001aa5d-129e-4500-b73a-688191820b57"
      },
      "execution_count": null,
      "outputs": [
        {
          "output_type": "execute_result",
          "data": {
            "text/plain": [
              "MultinomialNB()"
            ],
            "text/html": [
              "<style>#sk-container-id-1 {color: black;background-color: white;}#sk-container-id-1 pre{padding: 0;}#sk-container-id-1 div.sk-toggleable {background-color: white;}#sk-container-id-1 label.sk-toggleable__label {cursor: pointer;display: block;width: 100%;margin-bottom: 0;padding: 0.3em;box-sizing: border-box;text-align: center;}#sk-container-id-1 label.sk-toggleable__label-arrow:before {content: \"▸\";float: left;margin-right: 0.25em;color: #696969;}#sk-container-id-1 label.sk-toggleable__label-arrow:hover:before {color: black;}#sk-container-id-1 div.sk-estimator:hover label.sk-toggleable__label-arrow:before {color: black;}#sk-container-id-1 div.sk-toggleable__content {max-height: 0;max-width: 0;overflow: hidden;text-align: left;background-color: #f0f8ff;}#sk-container-id-1 div.sk-toggleable__content pre {margin: 0.2em;color: black;border-radius: 0.25em;background-color: #f0f8ff;}#sk-container-id-1 input.sk-toggleable__control:checked~div.sk-toggleable__content {max-height: 200px;max-width: 100%;overflow: auto;}#sk-container-id-1 input.sk-toggleable__control:checked~label.sk-toggleable__label-arrow:before {content: \"▾\";}#sk-container-id-1 div.sk-estimator input.sk-toggleable__control:checked~label.sk-toggleable__label {background-color: #d4ebff;}#sk-container-id-1 div.sk-label input.sk-toggleable__control:checked~label.sk-toggleable__label {background-color: #d4ebff;}#sk-container-id-1 input.sk-hidden--visually {border: 0;clip: rect(1px 1px 1px 1px);clip: rect(1px, 1px, 1px, 1px);height: 1px;margin: -1px;overflow: hidden;padding: 0;position: absolute;width: 1px;}#sk-container-id-1 div.sk-estimator {font-family: monospace;background-color: #f0f8ff;border: 1px dotted black;border-radius: 0.25em;box-sizing: border-box;margin-bottom: 0.5em;}#sk-container-id-1 div.sk-estimator:hover {background-color: #d4ebff;}#sk-container-id-1 div.sk-parallel-item::after {content: \"\";width: 100%;border-bottom: 1px solid gray;flex-grow: 1;}#sk-container-id-1 div.sk-label:hover label.sk-toggleable__label {background-color: #d4ebff;}#sk-container-id-1 div.sk-serial::before {content: \"\";position: absolute;border-left: 1px solid gray;box-sizing: border-box;top: 0;bottom: 0;left: 50%;z-index: 0;}#sk-container-id-1 div.sk-serial {display: flex;flex-direction: column;align-items: center;background-color: white;padding-right: 0.2em;padding-left: 0.2em;position: relative;}#sk-container-id-1 div.sk-item {position: relative;z-index: 1;}#sk-container-id-1 div.sk-parallel {display: flex;align-items: stretch;justify-content: center;background-color: white;position: relative;}#sk-container-id-1 div.sk-item::before, #sk-container-id-1 div.sk-parallel-item::before {content: \"\";position: absolute;border-left: 1px solid gray;box-sizing: border-box;top: 0;bottom: 0;left: 50%;z-index: -1;}#sk-container-id-1 div.sk-parallel-item {display: flex;flex-direction: column;z-index: 1;position: relative;background-color: white;}#sk-container-id-1 div.sk-parallel-item:first-child::after {align-self: flex-end;width: 50%;}#sk-container-id-1 div.sk-parallel-item:last-child::after {align-self: flex-start;width: 50%;}#sk-container-id-1 div.sk-parallel-item:only-child::after {width: 0;}#sk-container-id-1 div.sk-dashed-wrapped {border: 1px dashed gray;margin: 0 0.4em 0.5em 0.4em;box-sizing: border-box;padding-bottom: 0.4em;background-color: white;}#sk-container-id-1 div.sk-label label {font-family: monospace;font-weight: bold;display: inline-block;line-height: 1.2em;}#sk-container-id-1 div.sk-label-container {text-align: center;}#sk-container-id-1 div.sk-container {/* jupyter's `normalize.less` sets `[hidden] { display: none; }` but bootstrap.min.css set `[hidden] { display: none !important; }` so we also need the `!important` here to be able to override the default hidden behavior on the sphinx rendered scikit-learn.org. See: https://github.com/scikit-learn/scikit-learn/issues/21755 */display: inline-block !important;position: relative;}#sk-container-id-1 div.sk-text-repr-fallback {display: none;}</style><div id=\"sk-container-id-1\" class=\"sk-top-container\"><div class=\"sk-text-repr-fallback\"><pre>MultinomialNB()</pre><b>In a Jupyter environment, please rerun this cell to show the HTML representation or trust the notebook. <br />On GitHub, the HTML representation is unable to render, please try loading this page with nbviewer.org.</b></div><div class=\"sk-container\" hidden><div class=\"sk-item\"><div class=\"sk-estimator sk-toggleable\"><input class=\"sk-toggleable__control sk-hidden--visually\" id=\"sk-estimator-id-1\" type=\"checkbox\" checked><label for=\"sk-estimator-id-1\" class=\"sk-toggleable__label sk-toggleable__label-arrow\">MultinomialNB</label><div class=\"sk-toggleable__content\"><pre>MultinomialNB()</pre></div></div></div></div></div>"
            ]
          },
          "metadata": {},
          "execution_count": 21
        }
      ]
    },
    {
      "cell_type": "code",
      "source": [
        "#calcular accuracy del modelo\n",
        "predicted = MNB.predict(X_test)\n",
        "accuracy_score = metrics.accuracy_score(predicted, Y_test)\n",
        "print(\"Accuracuy Score: \",accuracy_score)"
      ],
      "metadata": {
        "colab": {
          "base_uri": "https://localhost:8080/"
        },
        "id": "PeniLOdu1K2I",
        "outputId": "6275a2f8-f89b-4bcf-dc37-0bb4528582c8"
      },
      "execution_count": null,
      "outputs": [
        {
          "output_type": "stream",
          "name": "stdout",
          "text": [
            "Accuracuy Score:  0.8445714285714285\n"
          ]
        }
      ]
    },
    {
      "cell_type": "markdown",
      "source": [
        "## Utilizando LSTM"
      ],
      "metadata": {
        "id": "G3f0Yey-10En"
      }
    },
    {
      "cell_type": "code",
      "execution_count": null,
      "metadata": {
        "id": "ScrS_uehkILM"
      },
      "outputs": [],
      "source": [
        "import re #regular expressiong in python, sirve para manipulación de texto\n",
        "import pandas as pd\n",
        "import numpy as np\n",
        "from sklearn.preprocessing import LabelEncoder\n",
        "from sklearn.model_selection import train_test_split\n",
        "from keras.preprocessing.text import Tokenizer\n",
        "from keras.preprocessing.sequence import pad_sequences\n",
        "import keras\n",
        "from sklearn.metrics import classification_report\n",
        "from sklearn.metrics import accuracy_score\n",
        "import math\n",
        "import nltk"
      ]
    },
    {
      "cell_type": "code",
      "source": [
        "data = pd.read_csv(\"https://raw.githubusercontent.com/Lashanghainesa/dataset/main/IMDB%20Dataset.csv\")\n",
        "print(data.head())"
      ],
      "metadata": {
        "colab": {
          "base_uri": "https://localhost:8080/"
        },
        "id": "7PdZrwNPkPjl",
        "outputId": "3722f6d0-df6b-4e38-a867-044227617742"
      },
      "execution_count": null,
      "outputs": [
        {
          "output_type": "stream",
          "name": "stdout",
          "text": [
            "                                            Sentence Sentiment\n",
            "0  AVP2 is an awful movie. The dialogue was point...  negative\n",
            "1  i stopped this movie at 48 minutes and change....  negative\n",
            "2  No, *Hitch* is decidedly NOT a romantic-comedy...  negative\n",
            "3  Based on the Korean legend, unknown creatures ...  negative\n",
            "4  I'm not a big fan of the Stooges' slapstick, b...  negative\n"
          ]
        }
      ]
    },
    {
      "cell_type": "code",
      "source": [
        "#limpiar los stopwords\n",
        "nltk.download('stopwords')\n",
        "from nltk.corpus import stopwords\n",
        "stop_words = set(stopwords.words('english'))\n",
        "data['Sentence'] = data['Sentence'].apply(lambda x: ' '.join([word for word in x.split() if word not in (stop_words)]))"
      ],
      "metadata": {
        "colab": {
          "base_uri": "https://localhost:8080/"
        },
        "id": "l4thHoBgknsn",
        "outputId": "a25745db-789f-445c-d44e-0a91334dae53"
      },
      "execution_count": null,
      "outputs": [
        {
          "output_type": "stream",
          "name": "stderr",
          "text": [
            "[nltk_data] Downloading package stopwords to /root/nltk_data...\n",
            "[nltk_data]   Package stopwords is already up-to-date!\n"
          ]
        }
      ]
    },
    {
      "cell_type": "code",
      "source": [
        "data"
      ],
      "metadata": {
        "colab": {
          "base_uri": "https://localhost:8080/",
          "height": 423
        },
        "id": "LBo1cTbIlk3V",
        "outputId": "42b78e8f-d377-4ec6-dc8f-47f3739572f7"
      },
      "execution_count": null,
      "outputs": [
        {
          "output_type": "execute_result",
          "data": {
            "text/plain": [
              "                                                Sentence Sentiment\n",
              "0      AVP2 awful movie. The dialogue pointless, acti...  negative\n",
              "1      stopped movie 48 minutes change... know...mayb...  negative\n",
              "2      No, *Hitch* decidedly NOT romantic-comedy bili...  negative\n",
              "3      Based Korean legend, unknown creatures return ...  negative\n",
              "4      I'm big fan Stooges' slapstick, I find history...  negative\n",
              "...                                                  ...       ...\n",
              "13994  Thanks Warner Archive, I see mammoth variety s...  positive\n",
              "13995  This story guy went see comedy turned horror m...  positive\n",
              "13996  This movie considered academy award, enjoy mov...  positive\n",
              "13997  Big fat liar pretty funny movie. But I watchin...  positive\n",
              "13998  This better-than-average entry Saint series - ...  positive\n",
              "\n",
              "[13999 rows x 2 columns]"
            ],
            "text/html": [
              "\n",
              "  <div id=\"df-b9ebe737-d03f-4663-ad88-45b48426454a\" class=\"colab-df-container\">\n",
              "    <div>\n",
              "<style scoped>\n",
              "    .dataframe tbody tr th:only-of-type {\n",
              "        vertical-align: middle;\n",
              "    }\n",
              "\n",
              "    .dataframe tbody tr th {\n",
              "        vertical-align: top;\n",
              "    }\n",
              "\n",
              "    .dataframe thead th {\n",
              "        text-align: right;\n",
              "    }\n",
              "</style>\n",
              "<table border=\"1\" class=\"dataframe\">\n",
              "  <thead>\n",
              "    <tr style=\"text-align: right;\">\n",
              "      <th></th>\n",
              "      <th>Sentence</th>\n",
              "      <th>Sentiment</th>\n",
              "    </tr>\n",
              "  </thead>\n",
              "  <tbody>\n",
              "    <tr>\n",
              "      <th>0</th>\n",
              "      <td>AVP2 awful movie. The dialogue pointless, acti...</td>\n",
              "      <td>negative</td>\n",
              "    </tr>\n",
              "    <tr>\n",
              "      <th>1</th>\n",
              "      <td>stopped movie 48 minutes change... know...mayb...</td>\n",
              "      <td>negative</td>\n",
              "    </tr>\n",
              "    <tr>\n",
              "      <th>2</th>\n",
              "      <td>No, *Hitch* decidedly NOT romantic-comedy bili...</td>\n",
              "      <td>negative</td>\n",
              "    </tr>\n",
              "    <tr>\n",
              "      <th>3</th>\n",
              "      <td>Based Korean legend, unknown creatures return ...</td>\n",
              "      <td>negative</td>\n",
              "    </tr>\n",
              "    <tr>\n",
              "      <th>4</th>\n",
              "      <td>I'm big fan Stooges' slapstick, I find history...</td>\n",
              "      <td>negative</td>\n",
              "    </tr>\n",
              "    <tr>\n",
              "      <th>...</th>\n",
              "      <td>...</td>\n",
              "      <td>...</td>\n",
              "    </tr>\n",
              "    <tr>\n",
              "      <th>13994</th>\n",
              "      <td>Thanks Warner Archive, I see mammoth variety s...</td>\n",
              "      <td>positive</td>\n",
              "    </tr>\n",
              "    <tr>\n",
              "      <th>13995</th>\n",
              "      <td>This story guy went see comedy turned horror m...</td>\n",
              "      <td>positive</td>\n",
              "    </tr>\n",
              "    <tr>\n",
              "      <th>13996</th>\n",
              "      <td>This movie considered academy award, enjoy mov...</td>\n",
              "      <td>positive</td>\n",
              "    </tr>\n",
              "    <tr>\n",
              "      <th>13997</th>\n",
              "      <td>Big fat liar pretty funny movie. But I watchin...</td>\n",
              "      <td>positive</td>\n",
              "    </tr>\n",
              "    <tr>\n",
              "      <th>13998</th>\n",
              "      <td>This better-than-average entry Saint series - ...</td>\n",
              "      <td>positive</td>\n",
              "    </tr>\n",
              "  </tbody>\n",
              "</table>\n",
              "<p>13999 rows × 2 columns</p>\n",
              "</div>\n",
              "    <div class=\"colab-df-buttons\">\n",
              "\n",
              "  <div class=\"colab-df-container\">\n",
              "    <button class=\"colab-df-convert\" onclick=\"convertToInteractive('df-b9ebe737-d03f-4663-ad88-45b48426454a')\"\n",
              "            title=\"Convert this dataframe to an interactive table.\"\n",
              "            style=\"display:none;\">\n",
              "\n",
              "  <svg xmlns=\"http://www.w3.org/2000/svg\" height=\"24px\" viewBox=\"0 -960 960 960\">\n",
              "    <path d=\"M120-120v-720h720v720H120Zm60-500h600v-160H180v160Zm220 220h160v-160H400v160Zm0 220h160v-160H400v160ZM180-400h160v-160H180v160Zm440 0h160v-160H620v160ZM180-180h160v-160H180v160Zm440 0h160v-160H620v160Z\"/>\n",
              "  </svg>\n",
              "    </button>\n",
              "\n",
              "  <style>\n",
              "    .colab-df-container {\n",
              "      display:flex;\n",
              "      gap: 12px;\n",
              "    }\n",
              "\n",
              "    .colab-df-convert {\n",
              "      background-color: #E8F0FE;\n",
              "      border: none;\n",
              "      border-radius: 50%;\n",
              "      cursor: pointer;\n",
              "      display: none;\n",
              "      fill: #1967D2;\n",
              "      height: 32px;\n",
              "      padding: 0 0 0 0;\n",
              "      width: 32px;\n",
              "    }\n",
              "\n",
              "    .colab-df-convert:hover {\n",
              "      background-color: #E2EBFA;\n",
              "      box-shadow: 0px 1px 2px rgba(60, 64, 67, 0.3), 0px 1px 3px 1px rgba(60, 64, 67, 0.15);\n",
              "      fill: #174EA6;\n",
              "    }\n",
              "\n",
              "    .colab-df-buttons div {\n",
              "      margin-bottom: 4px;\n",
              "    }\n",
              "\n",
              "    [theme=dark] .colab-df-convert {\n",
              "      background-color: #3B4455;\n",
              "      fill: #D2E3FC;\n",
              "    }\n",
              "\n",
              "    [theme=dark] .colab-df-convert:hover {\n",
              "      background-color: #434B5C;\n",
              "      box-shadow: 0px 1px 3px 1px rgba(0, 0, 0, 0.15);\n",
              "      filter: drop-shadow(0px 1px 2px rgba(0, 0, 0, 0.3));\n",
              "      fill: #FFFFFF;\n",
              "    }\n",
              "  </style>\n",
              "\n",
              "    <script>\n",
              "      const buttonEl =\n",
              "        document.querySelector('#df-b9ebe737-d03f-4663-ad88-45b48426454a button.colab-df-convert');\n",
              "      buttonEl.style.display =\n",
              "        google.colab.kernel.accessAllowed ? 'block' : 'none';\n",
              "\n",
              "      async function convertToInteractive(key) {\n",
              "        const element = document.querySelector('#df-b9ebe737-d03f-4663-ad88-45b48426454a');\n",
              "        const dataTable =\n",
              "          await google.colab.kernel.invokeFunction('convertToInteractive',\n",
              "                                                    [key], {});\n",
              "        if (!dataTable) return;\n",
              "\n",
              "        const docLinkHtml = 'Like what you see? Visit the ' +\n",
              "          '<a target=\"_blank\" href=https://colab.research.google.com/notebooks/data_table.ipynb>data table notebook</a>'\n",
              "          + ' to learn more about interactive tables.';\n",
              "        element.innerHTML = '';\n",
              "        dataTable['output_type'] = 'display_data';\n",
              "        await google.colab.output.renderOutput(dataTable, element);\n",
              "        const docLink = document.createElement('div');\n",
              "        docLink.innerHTML = docLinkHtml;\n",
              "        element.appendChild(docLink);\n",
              "      }\n",
              "    </script>\n",
              "  </div>\n",
              "\n",
              "\n",
              "<div id=\"df-14342ebb-9874-4894-814c-023094f6754c\">\n",
              "  <button class=\"colab-df-quickchart\" onclick=\"quickchart('df-14342ebb-9874-4894-814c-023094f6754c')\"\n",
              "            title=\"Suggest charts\"\n",
              "            style=\"display:none;\">\n",
              "\n",
              "<svg xmlns=\"http://www.w3.org/2000/svg\" height=\"24px\"viewBox=\"0 0 24 24\"\n",
              "     width=\"24px\">\n",
              "    <g>\n",
              "        <path d=\"M19 3H5c-1.1 0-2 .9-2 2v14c0 1.1.9 2 2 2h14c1.1 0 2-.9 2-2V5c0-1.1-.9-2-2-2zM9 17H7v-7h2v7zm4 0h-2V7h2v10zm4 0h-2v-4h2v4z\"/>\n",
              "    </g>\n",
              "</svg>\n",
              "  </button>\n",
              "\n",
              "<style>\n",
              "  .colab-df-quickchart {\n",
              "      --bg-color: #E8F0FE;\n",
              "      --fill-color: #1967D2;\n",
              "      --hover-bg-color: #E2EBFA;\n",
              "      --hover-fill-color: #174EA6;\n",
              "      --disabled-fill-color: #AAA;\n",
              "      --disabled-bg-color: #DDD;\n",
              "  }\n",
              "\n",
              "  [theme=dark] .colab-df-quickchart {\n",
              "      --bg-color: #3B4455;\n",
              "      --fill-color: #D2E3FC;\n",
              "      --hover-bg-color: #434B5C;\n",
              "      --hover-fill-color: #FFFFFF;\n",
              "      --disabled-bg-color: #3B4455;\n",
              "      --disabled-fill-color: #666;\n",
              "  }\n",
              "\n",
              "  .colab-df-quickchart {\n",
              "    background-color: var(--bg-color);\n",
              "    border: none;\n",
              "    border-radius: 50%;\n",
              "    cursor: pointer;\n",
              "    display: none;\n",
              "    fill: var(--fill-color);\n",
              "    height: 32px;\n",
              "    padding: 0;\n",
              "    width: 32px;\n",
              "  }\n",
              "\n",
              "  .colab-df-quickchart:hover {\n",
              "    background-color: var(--hover-bg-color);\n",
              "    box-shadow: 0 1px 2px rgba(60, 64, 67, 0.3), 0 1px 3px 1px rgba(60, 64, 67, 0.15);\n",
              "    fill: var(--button-hover-fill-color);\n",
              "  }\n",
              "\n",
              "  .colab-df-quickchart-complete:disabled,\n",
              "  .colab-df-quickchart-complete:disabled:hover {\n",
              "    background-color: var(--disabled-bg-color);\n",
              "    fill: var(--disabled-fill-color);\n",
              "    box-shadow: none;\n",
              "  }\n",
              "\n",
              "  .colab-df-spinner {\n",
              "    border: 2px solid var(--fill-color);\n",
              "    border-color: transparent;\n",
              "    border-bottom-color: var(--fill-color);\n",
              "    animation:\n",
              "      spin 1s steps(1) infinite;\n",
              "  }\n",
              "\n",
              "  @keyframes spin {\n",
              "    0% {\n",
              "      border-color: transparent;\n",
              "      border-bottom-color: var(--fill-color);\n",
              "      border-left-color: var(--fill-color);\n",
              "    }\n",
              "    20% {\n",
              "      border-color: transparent;\n",
              "      border-left-color: var(--fill-color);\n",
              "      border-top-color: var(--fill-color);\n",
              "    }\n",
              "    30% {\n",
              "      border-color: transparent;\n",
              "      border-left-color: var(--fill-color);\n",
              "      border-top-color: var(--fill-color);\n",
              "      border-right-color: var(--fill-color);\n",
              "    }\n",
              "    40% {\n",
              "      border-color: transparent;\n",
              "      border-right-color: var(--fill-color);\n",
              "      border-top-color: var(--fill-color);\n",
              "    }\n",
              "    60% {\n",
              "      border-color: transparent;\n",
              "      border-right-color: var(--fill-color);\n",
              "    }\n",
              "    80% {\n",
              "      border-color: transparent;\n",
              "      border-right-color: var(--fill-color);\n",
              "      border-bottom-color: var(--fill-color);\n",
              "    }\n",
              "    90% {\n",
              "      border-color: transparent;\n",
              "      border-bottom-color: var(--fill-color);\n",
              "    }\n",
              "  }\n",
              "</style>\n",
              "\n",
              "  <script>\n",
              "    async function quickchart(key) {\n",
              "      const quickchartButtonEl =\n",
              "        document.querySelector('#' + key + ' button');\n",
              "      quickchartButtonEl.disabled = true;  // To prevent multiple clicks.\n",
              "      quickchartButtonEl.classList.add('colab-df-spinner');\n",
              "      try {\n",
              "        const charts = await google.colab.kernel.invokeFunction(\n",
              "            'suggestCharts', [key], {});\n",
              "      } catch (error) {\n",
              "        console.error('Error during call to suggestCharts:', error);\n",
              "      }\n",
              "      quickchartButtonEl.classList.remove('colab-df-spinner');\n",
              "      quickchartButtonEl.classList.add('colab-df-quickchart-complete');\n",
              "    }\n",
              "    (() => {\n",
              "      let quickchartButtonEl =\n",
              "        document.querySelector('#df-14342ebb-9874-4894-814c-023094f6754c button');\n",
              "      quickchartButtonEl.style.display =\n",
              "        google.colab.kernel.accessAllowed ? 'block' : 'none';\n",
              "    })();\n",
              "  </script>\n",
              "</div>\n",
              "\n",
              "  <div id=\"id_9b7ff019-ba6a-4f80-8163-1b6f866b7974\">\n",
              "    <style>\n",
              "      .colab-df-generate {\n",
              "        background-color: #E8F0FE;\n",
              "        border: none;\n",
              "        border-radius: 50%;\n",
              "        cursor: pointer;\n",
              "        display: none;\n",
              "        fill: #1967D2;\n",
              "        height: 32px;\n",
              "        padding: 0 0 0 0;\n",
              "        width: 32px;\n",
              "      }\n",
              "\n",
              "      .colab-df-generate:hover {\n",
              "        background-color: #E2EBFA;\n",
              "        box-shadow: 0px 1px 2px rgba(60, 64, 67, 0.3), 0px 1px 3px 1px rgba(60, 64, 67, 0.15);\n",
              "        fill: #174EA6;\n",
              "      }\n",
              "\n",
              "      [theme=dark] .colab-df-generate {\n",
              "        background-color: #3B4455;\n",
              "        fill: #D2E3FC;\n",
              "      }\n",
              "\n",
              "      [theme=dark] .colab-df-generate:hover {\n",
              "        background-color: #434B5C;\n",
              "        box-shadow: 0px 1px 3px 1px rgba(0, 0, 0, 0.15);\n",
              "        filter: drop-shadow(0px 1px 2px rgba(0, 0, 0, 0.3));\n",
              "        fill: #FFFFFF;\n",
              "      }\n",
              "    </style>\n",
              "    <button class=\"colab-df-generate\" onclick=\"generateWithVariable('data')\"\n",
              "            title=\"Generate code using this dataframe.\"\n",
              "            style=\"display:none;\">\n",
              "\n",
              "  <svg xmlns=\"http://www.w3.org/2000/svg\" height=\"24px\"viewBox=\"0 0 24 24\"\n",
              "       width=\"24px\">\n",
              "    <path d=\"M7,19H8.4L18.45,9,17,7.55,7,17.6ZM5,21V16.75L18.45,3.32a2,2,0,0,1,2.83,0l1.4,1.43a1.91,1.91,0,0,1,.58,1.4,1.91,1.91,0,0,1-.58,1.4L9.25,21ZM18.45,9,17,7.55Zm-12,3A5.31,5.31,0,0,0,4.9,8.1,5.31,5.31,0,0,0,1,6.5,5.31,5.31,0,0,0,4.9,4.9,5.31,5.31,0,0,0,6.5,1,5.31,5.31,0,0,0,8.1,4.9,5.31,5.31,0,0,0,12,6.5,5.46,5.46,0,0,0,6.5,12Z\"/>\n",
              "  </svg>\n",
              "    </button>\n",
              "    <script>\n",
              "      (() => {\n",
              "      const buttonEl =\n",
              "        document.querySelector('#id_9b7ff019-ba6a-4f80-8163-1b6f866b7974 button.colab-df-generate');\n",
              "      buttonEl.style.display =\n",
              "        google.colab.kernel.accessAllowed ? 'block' : 'none';\n",
              "\n",
              "      buttonEl.onclick = () => {\n",
              "        google.colab.notebook.generateWithVariable('data');\n",
              "      }\n",
              "      })();\n",
              "    </script>\n",
              "  </div>\n",
              "\n",
              "    </div>\n",
              "  </div>\n"
            ],
            "application/vnd.google.colaboratory.intrinsic+json": {
              "type": "dataframe",
              "variable_name": "data",
              "summary": "{\n  \"name\": \"data\",\n  \"rows\": 13999,\n  \"fields\": [\n    {\n      \"column\": \"Sentence\",\n      \"properties\": {\n        \"dtype\": \"string\",\n        \"num_unique_values\": 13957,\n        \"samples\": [\n          \"TV churns dozens true-crime movies every year. You see 3 4 every Saturday Lifetime, Court TV relied every weekend. So I started watching The Morrison Murders thinking I knew well expect: less competent retelling real-life family murder. What I got subtle, beautifully acted drama engrossed start finish.<br /><br />Both brothers totally convincing, Jonathan Scarfe perfect challenging role Luke. The look feel Georgia almost every frame. If I complaint, Gordon Clapp sheriff. He look act like small-town Southern lawman named Byron Calhoun. He looks sounds like Medavoy, Medavoy right part.<br /><br />But minor quibble: The Morrison Murders well worth watching, rainy Saturday afternoon. If going out, tape it. You regret it.\",\n          \"This movie probably funniest I've ever seen, CERTAINLY much redeeming value. In fact, really nothing collection vignettes tied together loose plot. However, \\\"make-it-up-as-I-go-along\\\" attitude actually works film's advantage. \\\"Tommy Boy\\\" succeeds comedy reasons SNL skits Farley Spade starred succeeded: well-timed extemporaneous silliness mayhem makes humorous despite immaturity.\",\n          \"could rate zero would , coming someone likes shock/exploitation films time Waters overall must say useless.<br /><br />It nothing , serves nothing , idiot camera urge prove cleverness rebeling social standards comes as.<br /><br />Its entirely amateur , principle execution , point , digusting sake disgusting ,obscene wit neanderthal , useless.<br /><br />Someone said Waters probably \\\"chuckling\\\" bad press disgust others gave film , why? If made short film depicting man bathroom taking sh*t ten minutes straight surely would receive accomidations would proud \\\"chuckle\\\" that? <br /><br />Would unintelligent resort say \\\"HA! Take censors mainstream! Im rebellious ill whatever want film it!\\\" No.<br /><br />Waters proud mess , fans waters watch , useless , , without use.<br /><br />Its even fit criteria art arts sake.<br /><br />To like defend movie defend something designed purposely anti-culture pushed mainstream audience , modern terms film Hot Topic films.<br /><br />Useless Obsolete. A Poser film demands acknowledged rebellion .\"\n        ],\n        \"semantic_type\": \"\",\n        \"description\": \"\"\n      }\n    },\n    {\n      \"column\": \"Sentiment\",\n      \"properties\": {\n        \"dtype\": \"category\",\n        \"num_unique_values\": 2,\n        \"samples\": [\n          \"positive\",\n          \"negative\"\n        ],\n        \"semantic_type\": \"\",\n        \"description\": \"\"\n      }\n    }\n  ]\n}"
            }
          },
          "metadata": {},
          "execution_count": 27
        }
      ]
    },
    {
      "cell_type": "markdown",
      "source": [
        "El siguiente paso es realizar la lematizacion.  Lematizacion consiste en obtener la raiz de una palabra, por ejemplo: trabajando --> trabajo.  "
      ],
      "metadata": {
        "id": "sk4CnZXtLjsC"
      }
    },
    {
      "cell_type": "code",
      "source": [
        "nltk.download('wordnet')\n",
        "\n",
        "#usamos wornetlemmatizer para realizar la tarea:\n",
        "w_tokenizer = nltk.tokenize.WhitespaceTokenizer()\n",
        "lemmatizer = nltk.stem.WordNetLemmatizer()\n",
        "\n",
        "def lemmatize_text(text):\n",
        "    st = \"\"\n",
        "    for w in w_tokenizer.tokenize(text):\n",
        "        st = st + lemmatizer.lemmatize(w) + \" \"\n",
        "    return st\n",
        "\n",
        "data['Sentence'] = data.Sentence.apply(lemmatize_text)\n",
        "data"
      ],
      "metadata": {
        "colab": {
          "base_uri": "https://localhost:8080/",
          "height": 458
        },
        "id": "OPHXtIVlk7ZV",
        "outputId": "abc00499-44f1-4cc2-a580-559d878bb70e"
      },
      "execution_count": null,
      "outputs": [
        {
          "output_type": "stream",
          "name": "stderr",
          "text": [
            "[nltk_data] Downloading package wordnet to /root/nltk_data...\n",
            "[nltk_data]   Package wordnet is already up-to-date!\n"
          ]
        },
        {
          "output_type": "execute_result",
          "data": {
            "text/plain": [
              "                                                Sentence Sentiment\n",
              "0      AVP2 awful movie. The dialogue pointless, acti...  negative\n",
              "1      stopped movie 48 minute change... know...maybe...  negative\n",
              "2      No, *Hitch* decidedly NOT romantic-comedy bili...  negative\n",
              "3      Based Korean legend, unknown creature return d...  negative\n",
              "4      I'm big fan Stooges' slapstick, I find history...  negative\n",
              "...                                                  ...       ...\n",
              "13994  Thanks Warner Archive, I see mammoth variety s...  positive\n",
              "13995  This story guy went see comedy turned horror m...  positive\n",
              "13996  This movie considered academy award, enjoy mov...  positive\n",
              "13997  Big fat liar pretty funny movie. But I watchin...  positive\n",
              "13998  This better-than-average entry Saint series - ...  positive\n",
              "\n",
              "[13999 rows x 2 columns]"
            ],
            "text/html": [
              "\n",
              "  <div id=\"df-bbde3b2e-a029-491b-bc87-e7a35884edeb\" class=\"colab-df-container\">\n",
              "    <div>\n",
              "<style scoped>\n",
              "    .dataframe tbody tr th:only-of-type {\n",
              "        vertical-align: middle;\n",
              "    }\n",
              "\n",
              "    .dataframe tbody tr th {\n",
              "        vertical-align: top;\n",
              "    }\n",
              "\n",
              "    .dataframe thead th {\n",
              "        text-align: right;\n",
              "    }\n",
              "</style>\n",
              "<table border=\"1\" class=\"dataframe\">\n",
              "  <thead>\n",
              "    <tr style=\"text-align: right;\">\n",
              "      <th></th>\n",
              "      <th>Sentence</th>\n",
              "      <th>Sentiment</th>\n",
              "    </tr>\n",
              "  </thead>\n",
              "  <tbody>\n",
              "    <tr>\n",
              "      <th>0</th>\n",
              "      <td>AVP2 awful movie. The dialogue pointless, acti...</td>\n",
              "      <td>negative</td>\n",
              "    </tr>\n",
              "    <tr>\n",
              "      <th>1</th>\n",
              "      <td>stopped movie 48 minute change... know...maybe...</td>\n",
              "      <td>negative</td>\n",
              "    </tr>\n",
              "    <tr>\n",
              "      <th>2</th>\n",
              "      <td>No, *Hitch* decidedly NOT romantic-comedy bili...</td>\n",
              "      <td>negative</td>\n",
              "    </tr>\n",
              "    <tr>\n",
              "      <th>3</th>\n",
              "      <td>Based Korean legend, unknown creature return d...</td>\n",
              "      <td>negative</td>\n",
              "    </tr>\n",
              "    <tr>\n",
              "      <th>4</th>\n",
              "      <td>I'm big fan Stooges' slapstick, I find history...</td>\n",
              "      <td>negative</td>\n",
              "    </tr>\n",
              "    <tr>\n",
              "      <th>...</th>\n",
              "      <td>...</td>\n",
              "      <td>...</td>\n",
              "    </tr>\n",
              "    <tr>\n",
              "      <th>13994</th>\n",
              "      <td>Thanks Warner Archive, I see mammoth variety s...</td>\n",
              "      <td>positive</td>\n",
              "    </tr>\n",
              "    <tr>\n",
              "      <th>13995</th>\n",
              "      <td>This story guy went see comedy turned horror m...</td>\n",
              "      <td>positive</td>\n",
              "    </tr>\n",
              "    <tr>\n",
              "      <th>13996</th>\n",
              "      <td>This movie considered academy award, enjoy mov...</td>\n",
              "      <td>positive</td>\n",
              "    </tr>\n",
              "    <tr>\n",
              "      <th>13997</th>\n",
              "      <td>Big fat liar pretty funny movie. But I watchin...</td>\n",
              "      <td>positive</td>\n",
              "    </tr>\n",
              "    <tr>\n",
              "      <th>13998</th>\n",
              "      <td>This better-than-average entry Saint series - ...</td>\n",
              "      <td>positive</td>\n",
              "    </tr>\n",
              "  </tbody>\n",
              "</table>\n",
              "<p>13999 rows × 2 columns</p>\n",
              "</div>\n",
              "    <div class=\"colab-df-buttons\">\n",
              "\n",
              "  <div class=\"colab-df-container\">\n",
              "    <button class=\"colab-df-convert\" onclick=\"convertToInteractive('df-bbde3b2e-a029-491b-bc87-e7a35884edeb')\"\n",
              "            title=\"Convert this dataframe to an interactive table.\"\n",
              "            style=\"display:none;\">\n",
              "\n",
              "  <svg xmlns=\"http://www.w3.org/2000/svg\" height=\"24px\" viewBox=\"0 -960 960 960\">\n",
              "    <path d=\"M120-120v-720h720v720H120Zm60-500h600v-160H180v160Zm220 220h160v-160H400v160Zm0 220h160v-160H400v160ZM180-400h160v-160H180v160Zm440 0h160v-160H620v160ZM180-180h160v-160H180v160Zm440 0h160v-160H620v160Z\"/>\n",
              "  </svg>\n",
              "    </button>\n",
              "\n",
              "  <style>\n",
              "    .colab-df-container {\n",
              "      display:flex;\n",
              "      gap: 12px;\n",
              "    }\n",
              "\n",
              "    .colab-df-convert {\n",
              "      background-color: #E8F0FE;\n",
              "      border: none;\n",
              "      border-radius: 50%;\n",
              "      cursor: pointer;\n",
              "      display: none;\n",
              "      fill: #1967D2;\n",
              "      height: 32px;\n",
              "      padding: 0 0 0 0;\n",
              "      width: 32px;\n",
              "    }\n",
              "\n",
              "    .colab-df-convert:hover {\n",
              "      background-color: #E2EBFA;\n",
              "      box-shadow: 0px 1px 2px rgba(60, 64, 67, 0.3), 0px 1px 3px 1px rgba(60, 64, 67, 0.15);\n",
              "      fill: #174EA6;\n",
              "    }\n",
              "\n",
              "    .colab-df-buttons div {\n",
              "      margin-bottom: 4px;\n",
              "    }\n",
              "\n",
              "    [theme=dark] .colab-df-convert {\n",
              "      background-color: #3B4455;\n",
              "      fill: #D2E3FC;\n",
              "    }\n",
              "\n",
              "    [theme=dark] .colab-df-convert:hover {\n",
              "      background-color: #434B5C;\n",
              "      box-shadow: 0px 1px 3px 1px rgba(0, 0, 0, 0.15);\n",
              "      filter: drop-shadow(0px 1px 2px rgba(0, 0, 0, 0.3));\n",
              "      fill: #FFFFFF;\n",
              "    }\n",
              "  </style>\n",
              "\n",
              "    <script>\n",
              "      const buttonEl =\n",
              "        document.querySelector('#df-bbde3b2e-a029-491b-bc87-e7a35884edeb button.colab-df-convert');\n",
              "      buttonEl.style.display =\n",
              "        google.colab.kernel.accessAllowed ? 'block' : 'none';\n",
              "\n",
              "      async function convertToInteractive(key) {\n",
              "        const element = document.querySelector('#df-bbde3b2e-a029-491b-bc87-e7a35884edeb');\n",
              "        const dataTable =\n",
              "          await google.colab.kernel.invokeFunction('convertToInteractive',\n",
              "                                                    [key], {});\n",
              "        if (!dataTable) return;\n",
              "\n",
              "        const docLinkHtml = 'Like what you see? Visit the ' +\n",
              "          '<a target=\"_blank\" href=https://colab.research.google.com/notebooks/data_table.ipynb>data table notebook</a>'\n",
              "          + ' to learn more about interactive tables.';\n",
              "        element.innerHTML = '';\n",
              "        dataTable['output_type'] = 'display_data';\n",
              "        await google.colab.output.renderOutput(dataTable, element);\n",
              "        const docLink = document.createElement('div');\n",
              "        docLink.innerHTML = docLinkHtml;\n",
              "        element.appendChild(docLink);\n",
              "      }\n",
              "    </script>\n",
              "  </div>\n",
              "\n",
              "\n",
              "<div id=\"df-505752ca-a570-4dd0-8225-f449a2076aeb\">\n",
              "  <button class=\"colab-df-quickchart\" onclick=\"quickchart('df-505752ca-a570-4dd0-8225-f449a2076aeb')\"\n",
              "            title=\"Suggest charts\"\n",
              "            style=\"display:none;\">\n",
              "\n",
              "<svg xmlns=\"http://www.w3.org/2000/svg\" height=\"24px\"viewBox=\"0 0 24 24\"\n",
              "     width=\"24px\">\n",
              "    <g>\n",
              "        <path d=\"M19 3H5c-1.1 0-2 .9-2 2v14c0 1.1.9 2 2 2h14c1.1 0 2-.9 2-2V5c0-1.1-.9-2-2-2zM9 17H7v-7h2v7zm4 0h-2V7h2v10zm4 0h-2v-4h2v4z\"/>\n",
              "    </g>\n",
              "</svg>\n",
              "  </button>\n",
              "\n",
              "<style>\n",
              "  .colab-df-quickchart {\n",
              "      --bg-color: #E8F0FE;\n",
              "      --fill-color: #1967D2;\n",
              "      --hover-bg-color: #E2EBFA;\n",
              "      --hover-fill-color: #174EA6;\n",
              "      --disabled-fill-color: #AAA;\n",
              "      --disabled-bg-color: #DDD;\n",
              "  }\n",
              "\n",
              "  [theme=dark] .colab-df-quickchart {\n",
              "      --bg-color: #3B4455;\n",
              "      --fill-color: #D2E3FC;\n",
              "      --hover-bg-color: #434B5C;\n",
              "      --hover-fill-color: #FFFFFF;\n",
              "      --disabled-bg-color: #3B4455;\n",
              "      --disabled-fill-color: #666;\n",
              "  }\n",
              "\n",
              "  .colab-df-quickchart {\n",
              "    background-color: var(--bg-color);\n",
              "    border: none;\n",
              "    border-radius: 50%;\n",
              "    cursor: pointer;\n",
              "    display: none;\n",
              "    fill: var(--fill-color);\n",
              "    height: 32px;\n",
              "    padding: 0;\n",
              "    width: 32px;\n",
              "  }\n",
              "\n",
              "  .colab-df-quickchart:hover {\n",
              "    background-color: var(--hover-bg-color);\n",
              "    box-shadow: 0 1px 2px rgba(60, 64, 67, 0.3), 0 1px 3px 1px rgba(60, 64, 67, 0.15);\n",
              "    fill: var(--button-hover-fill-color);\n",
              "  }\n",
              "\n",
              "  .colab-df-quickchart-complete:disabled,\n",
              "  .colab-df-quickchart-complete:disabled:hover {\n",
              "    background-color: var(--disabled-bg-color);\n",
              "    fill: var(--disabled-fill-color);\n",
              "    box-shadow: none;\n",
              "  }\n",
              "\n",
              "  .colab-df-spinner {\n",
              "    border: 2px solid var(--fill-color);\n",
              "    border-color: transparent;\n",
              "    border-bottom-color: var(--fill-color);\n",
              "    animation:\n",
              "      spin 1s steps(1) infinite;\n",
              "  }\n",
              "\n",
              "  @keyframes spin {\n",
              "    0% {\n",
              "      border-color: transparent;\n",
              "      border-bottom-color: var(--fill-color);\n",
              "      border-left-color: var(--fill-color);\n",
              "    }\n",
              "    20% {\n",
              "      border-color: transparent;\n",
              "      border-left-color: var(--fill-color);\n",
              "      border-top-color: var(--fill-color);\n",
              "    }\n",
              "    30% {\n",
              "      border-color: transparent;\n",
              "      border-left-color: var(--fill-color);\n",
              "      border-top-color: var(--fill-color);\n",
              "      border-right-color: var(--fill-color);\n",
              "    }\n",
              "    40% {\n",
              "      border-color: transparent;\n",
              "      border-right-color: var(--fill-color);\n",
              "      border-top-color: var(--fill-color);\n",
              "    }\n",
              "    60% {\n",
              "      border-color: transparent;\n",
              "      border-right-color: var(--fill-color);\n",
              "    }\n",
              "    80% {\n",
              "      border-color: transparent;\n",
              "      border-right-color: var(--fill-color);\n",
              "      border-bottom-color: var(--fill-color);\n",
              "    }\n",
              "    90% {\n",
              "      border-color: transparent;\n",
              "      border-bottom-color: var(--fill-color);\n",
              "    }\n",
              "  }\n",
              "</style>\n",
              "\n",
              "  <script>\n",
              "    async function quickchart(key) {\n",
              "      const quickchartButtonEl =\n",
              "        document.querySelector('#' + key + ' button');\n",
              "      quickchartButtonEl.disabled = true;  // To prevent multiple clicks.\n",
              "      quickchartButtonEl.classList.add('colab-df-spinner');\n",
              "      try {\n",
              "        const charts = await google.colab.kernel.invokeFunction(\n",
              "            'suggestCharts', [key], {});\n",
              "      } catch (error) {\n",
              "        console.error('Error during call to suggestCharts:', error);\n",
              "      }\n",
              "      quickchartButtonEl.classList.remove('colab-df-spinner');\n",
              "      quickchartButtonEl.classList.add('colab-df-quickchart-complete');\n",
              "    }\n",
              "    (() => {\n",
              "      let quickchartButtonEl =\n",
              "        document.querySelector('#df-505752ca-a570-4dd0-8225-f449a2076aeb button');\n",
              "      quickchartButtonEl.style.display =\n",
              "        google.colab.kernel.accessAllowed ? 'block' : 'none';\n",
              "    })();\n",
              "  </script>\n",
              "</div>\n",
              "\n",
              "  <div id=\"id_7fea9ce7-32aa-41a5-84a6-1befddce0e82\">\n",
              "    <style>\n",
              "      .colab-df-generate {\n",
              "        background-color: #E8F0FE;\n",
              "        border: none;\n",
              "        border-radius: 50%;\n",
              "        cursor: pointer;\n",
              "        display: none;\n",
              "        fill: #1967D2;\n",
              "        height: 32px;\n",
              "        padding: 0 0 0 0;\n",
              "        width: 32px;\n",
              "      }\n",
              "\n",
              "      .colab-df-generate:hover {\n",
              "        background-color: #E2EBFA;\n",
              "        box-shadow: 0px 1px 2px rgba(60, 64, 67, 0.3), 0px 1px 3px 1px rgba(60, 64, 67, 0.15);\n",
              "        fill: #174EA6;\n",
              "      }\n",
              "\n",
              "      [theme=dark] .colab-df-generate {\n",
              "        background-color: #3B4455;\n",
              "        fill: #D2E3FC;\n",
              "      }\n",
              "\n",
              "      [theme=dark] .colab-df-generate:hover {\n",
              "        background-color: #434B5C;\n",
              "        box-shadow: 0px 1px 3px 1px rgba(0, 0, 0, 0.15);\n",
              "        filter: drop-shadow(0px 1px 2px rgba(0, 0, 0, 0.3));\n",
              "        fill: #FFFFFF;\n",
              "      }\n",
              "    </style>\n",
              "    <button class=\"colab-df-generate\" onclick=\"generateWithVariable('data')\"\n",
              "            title=\"Generate code using this dataframe.\"\n",
              "            style=\"display:none;\">\n",
              "\n",
              "  <svg xmlns=\"http://www.w3.org/2000/svg\" height=\"24px\"viewBox=\"0 0 24 24\"\n",
              "       width=\"24px\">\n",
              "    <path d=\"M7,19H8.4L18.45,9,17,7.55,7,17.6ZM5,21V16.75L18.45,3.32a2,2,0,0,1,2.83,0l1.4,1.43a1.91,1.91,0,0,1,.58,1.4,1.91,1.91,0,0,1-.58,1.4L9.25,21ZM18.45,9,17,7.55Zm-12,3A5.31,5.31,0,0,0,4.9,8.1,5.31,5.31,0,0,0,1,6.5,5.31,5.31,0,0,0,4.9,4.9,5.31,5.31,0,0,0,6.5,1,5.31,5.31,0,0,0,8.1,4.9,5.31,5.31,0,0,0,12,6.5,5.46,5.46,0,0,0,6.5,12Z\"/>\n",
              "  </svg>\n",
              "    </button>\n",
              "    <script>\n",
              "      (() => {\n",
              "      const buttonEl =\n",
              "        document.querySelector('#id_7fea9ce7-32aa-41a5-84a6-1befddce0e82 button.colab-df-generate');\n",
              "      buttonEl.style.display =\n",
              "        google.colab.kernel.accessAllowed ? 'block' : 'none';\n",
              "\n",
              "      buttonEl.onclick = () => {\n",
              "        google.colab.notebook.generateWithVariable('data');\n",
              "      }\n",
              "      })();\n",
              "    </script>\n",
              "  </div>\n",
              "\n",
              "    </div>\n",
              "  </div>\n"
            ],
            "application/vnd.google.colaboratory.intrinsic+json": {
              "type": "dataframe",
              "variable_name": "data",
              "summary": "{\n  \"name\": \"data\",\n  \"rows\": 13999,\n  \"fields\": [\n    {\n      \"column\": \"Sentence\",\n      \"properties\": {\n        \"dtype\": \"string\",\n        \"num_unique_values\": 13957,\n        \"samples\": [\n          \"TV churn dozen true-crime movie every year. You see 3 4 every Saturday Lifetime, Court TV relied every weekend. So I started watching The Morrison Murders thinking I knew well expect: le competent retelling real-life family murder. What I got subtle, beautifully acted drama engrossed start finish.<br /><br />Both brother totally convincing, Jonathan Scarfe perfect challenging role Luke. The look feel Georgia almost every frame. If I complaint, Gordon Clapp sheriff. He look act like small-town Southern lawman named Byron Calhoun. He look sound like Medavoy, Medavoy right part.<br /><br />But minor quibble: The Morrison Murders well worth watching, rainy Saturday afternoon. If going out, tape it. You regret it. \",\n          \"This movie probably funniest I've ever seen, CERTAINLY much redeeming value. In fact, really nothing collection vignette tied together loose plot. However, \\\"make-it-up-as-I-go-along\\\" attitude actually work film's advantage. \\\"Tommy Boy\\\" succeeds comedy reason SNL skit Farley Spade starred succeeded: well-timed extemporaneous silliness mayhem make humorous despite immaturity. \",\n          \"could rate zero would , coming someone like shock/exploitation film time Waters overall must say useless.<br /><br />It nothing , serf nothing , idiot camera urge prove cleverness rebeling social standard come as.<br /><br />Its entirely amateur , principle execution , point , digusting sake disgusting ,obscene wit neanderthal , useless.<br /><br />Someone said Waters probably \\\"chuckling\\\" bad press disgust others gave film , why? If made short film depicting man bathroom taking sh*t ten minute straight surely would receive accomidations would proud \\\"chuckle\\\" that? <br /><br />Would unintelligent resort say \\\"HA! Take censor mainstream! Im rebellious ill whatever want film it!\\\" No.<br /><br />Waters proud mess , fan water watch , useless , , without use.<br /><br />Its even fit criterion art art sake.<br /><br />To like defend movie defend something designed purposely anti-culture pushed mainstream audience , modern term film Hot Topic films.<br /><br />Useless Obsolete. A Poser film demand acknowledged rebellion . \"\n        ],\n        \"semantic_type\": \"\",\n        \"description\": \"\"\n      }\n    },\n    {\n      \"column\": \"Sentiment\",\n      \"properties\": {\n        \"dtype\": \"category\",\n        \"num_unique_values\": 2,\n        \"samples\": [\n          \"positive\",\n          \"negative\"\n        ],\n        \"semantic_type\": \"\",\n        \"description\": \"\"\n      }\n    }\n  ]\n}"
            }
          },
          "metadata": {},
          "execution_count": 28
        }
      ]
    },
    {
      "cell_type": "markdown",
      "source": [
        "Revisamos el largo de cada review y el % de las etiquetas para ver si es un dataset balanceado."
      ],
      "metadata": {
        "id": "LSPra4zqMspP"
      }
    },
    {
      "cell_type": "code",
      "source": [
        "s = 0.0\n",
        "for i in data['Sentence']:\n",
        "    word_list = i.split() #separo cada palabra por espacio en cada review.\n",
        "    s = s + len(word_list) #voy sumando la cantidad de palabras de cada review.\n",
        "print(\"Average length of each review : \",s/data.shape[0]) #cantidad total de palabras/cantidad de reviews.\n",
        "\n",
        "pos = 0\n",
        "for i in range(data.shape[0]):\n",
        "    if data.iloc[i]['Sentiment'] == 'positive':\n",
        "        pos = pos + 1\n",
        "neg = data.shape[0]-pos\n",
        "\n",
        "\n",
        "print(\"Percentage of reviews with positive sentiment is \"+str(pos/data.shape[0]*100)+\"%\")\n",
        "print(\"Percentage of reviews with negative sentiment is \"+str(neg/data.shape[0]*100)+\"%\")"
      ],
      "metadata": {
        "colab": {
          "base_uri": "https://localhost:8080/"
        },
        "id": "yLWwdXy6mT-1",
        "outputId": "ee53851e-24c6-4685-926b-40f705d747e4"
      },
      "execution_count": null,
      "outputs": [
        {
          "output_type": "stream",
          "name": "stdout",
          "text": [
            "Average length of each review :  135.32995213943852\n",
            "Percentage of reviews with positive sentiment is 49.989284948924926%\n",
            "Percentage of reviews with negative sentiment is 50.010715051075074%\n"
          ]
        }
      ]
    },
    {
      "cell_type": "code",
      "source": [
        "#Usamos LabelEncoder() de sklearn.preprocessing para convertir las etiquetas positive y negativo en 1 y 0 respectivamente.\n",
        "reviews = data['Sentence'].values #convierto la columna Sentence en un vector para luego poder procesarlo\n",
        "labels = data['Sentiment'].values\n",
        "encoder = LabelEncoder()\n",
        "encoded_labels = encoder.fit_transform(labels)"
      ],
      "metadata": {
        "id": "XUVbuj3xm074"
      },
      "execution_count": null,
      "outputs": []
    },
    {
      "cell_type": "code",
      "source": [
        "encoded_labels"
      ],
      "metadata": {
        "colab": {
          "base_uri": "https://localhost:8080/"
        },
        "id": "KCUVlmdmOZc7",
        "outputId": "77cfe295-0d36-45f9-f42f-ce8e5f6bca4f"
      },
      "execution_count": null,
      "outputs": [
        {
          "output_type": "execute_result",
          "data": {
            "text/plain": [
              "array([0, 0, 0, ..., 1, 1, 1])"
            ]
          },
          "metadata": {},
          "execution_count": 31
        }
      ]
    },
    {
      "cell_type": "code",
      "source": [
        "#Train-test split\n",
        "train_sentences, test_sentences, train_labels, test_labels = train_test_split(reviews, encoded_labels, test_size=0.33, random_state=42) #stratify = encoded_labels)"
      ],
      "metadata": {
        "id": "gjmvbi3Om5JY"
      },
      "execution_count": null,
      "outputs": []
    },
    {
      "cell_type": "markdown",
      "source": [
        "Tokenizing: Keras’ inbuilt tokenizer API has fit the dataset, which splits the sentences into words and creates a dictionary of all unique words found and their uniquely assigned integers. Each sentence is converted into an array of integers representing all the individual words present in it.\n",
        "\n",
        "Sequence Padding: The array representing each sentence in the dataset is filled with zeroes to the left to make the size of the array ten and bring all collections to the same length."
      ],
      "metadata": {
        "id": "wZ8Yn8uWQ5u-"
      }
    },
    {
      "cell_type": "code",
      "source": [
        "# Hyperparameters of the model\n",
        "\n",
        "vocab_size = 3000 #por convención.  estoy limitando a 3000 las palabras más usadas en mi base, el resto lo descarto.\n",
        "oov_tok = '' #out of vocab words. asigno espacio vacío a estas palabras descartadas.\n",
        "embedding_dim = 100\n",
        "max_length = 200 # suele ser de 150 a 200.  indica el máximo tamaño de sequences luego de la tokenización.  Sequences más largos que max_length serán truncados, y sequences más cortos que max_length serán padded.\n",
        "padding_type='post' #el padding va a ser después de la sequence, no antes (pre)\n",
        "trunc_type='post'\n",
        "\n",
        "# tokenize sentences\n",
        "tokenizer = Tokenizer(num_words = vocab_size, oov_token=oov_tok)\n",
        "tokenizer.fit_on_texts(train_sentences)\n",
        "word_index = tokenizer.word_index #un diccionario que contiene el indice de palabras.  lo dejo preparado para el posterior padding\n",
        "\n",
        "# convert train dataset to sequence and pad sequences\n",
        "train_sequences = tokenizer.texts_to_sequences(train_sentences) #convierto la secuencia de palabras en números de acuerdo al word_index\n",
        "train_padded = pad_sequences(train_sequences, padding='post', maxlen=max_length) #padding\n",
        "\n",
        "# convert Test dataset to sequence and pad sequences\n",
        "test_sequences = tokenizer.texts_to_sequences(test_sentences)\n",
        "test_padded = pad_sequences(test_sequences, padding='post', maxlen=max_length)"
      ],
      "metadata": {
        "id": "Sf21c89Mm-AN"
      },
      "execution_count": null,
      "outputs": []
    },
    {
      "cell_type": "markdown",
      "source": [
        "modelo Keras sequential:\n",
        "\n",
        "Una capa de embedding de 100 dimensiones convierte cada palabra en un vector de tamaño fijo (dense vector) de 100.  la dimensión de input es seteada como el vocab_size y la dimensión de output es 100.  Cada palabra en el input será representada por un vector de 100.  \n",
        "\n",
        "Luego, una capa bidireccional LSTM de 64 units.  \n",
        "\n",
        "Luego, una capa fully connected de 24 units con una funcion de activación RELU.\n",
        "\n",
        "Una capa dense de 1 unit y función sigmoide arroja la probabilidad de que el sentimiento sea positiva."
      ],
      "metadata": {
        "id": "9B8QI6a7Q_xz"
      }
    },
    {
      "cell_type": "code",
      "source": [
        "# model initialization\n",
        "model = keras.Sequential([\n",
        "    keras.layers.Embedding(vocab_size, embedding_dim, input_length=max_length),\n",
        "    keras.layers.Bidirectional(keras.layers.LSTM(64)),\n",
        "    keras.layers.Dense(24, activation='relu'),\n",
        "    keras.layers.Dense(1, activation='sigmoid')\n",
        "])\n",
        "\n",
        "# compile model\n",
        "model.compile(loss='binary_crossentropy',\n",
        "              optimizer='adam',\n",
        "              metrics=['accuracy'])\n",
        "\n",
        "# model summary\n",
        "model.summary()\n",
        "#parametro de embedding: 3000*100\n",
        "#parametro de bidirectional: 2*4*[units(64)*input_dim(100)+units^2(64^2)+units(64)]\n",
        "#parametro de dense: 128*24+24\n",
        "#parametro de dense_1: 24*1+1"
      ],
      "metadata": {
        "colab": {
          "base_uri": "https://localhost:8080/"
        },
        "id": "h64_-Zc3nL19",
        "outputId": "881b42c8-58b1-45fd-aa13-0e2353d65593"
      },
      "execution_count": null,
      "outputs": [
        {
          "output_type": "stream",
          "name": "stdout",
          "text": [
            "Model: \"sequential\"\n",
            "_________________________________________________________________\n",
            " Layer (type)                Output Shape              Param #   \n",
            "=================================================================\n",
            " embedding (Embedding)       (None, 200, 100)          300000    \n",
            "                                                                 \n",
            " bidirectional (Bidirection  (None, 128)               84480     \n",
            " al)                                                             \n",
            "                                                                 \n",
            " dense (Dense)               (None, 24)                3096      \n",
            "                                                                 \n",
            " dense_1 (Dense)             (None, 1)                 25        \n",
            "                                                                 \n",
            "=================================================================\n",
            "Total params: 387601 (1.48 MB)\n",
            "Trainable params: 387601 (1.48 MB)\n",
            "Non-trainable params: 0 (0.00 Byte)\n",
            "_________________________________________________________________\n"
          ]
        }
      ]
    },
    {
      "cell_type": "code",
      "source": [
        "num_epochs = 5\n",
        "history = model.fit(train_padded, train_labels,\n",
        "                    epochs=num_epochs, verbose=1,\n",
        "                    validation_split=0.1)"
      ],
      "metadata": {
        "colab": {
          "base_uri": "https://localhost:8080/"
        },
        "id": "hxvpcRBxnR-f",
        "outputId": "da2883bb-b78a-4cdf-f70d-bd70f6af1246"
      },
      "execution_count": null,
      "outputs": [
        {
          "output_type": "stream",
          "name": "stdout",
          "text": [
            "Epoch 1/5\n",
            "264/264 [==============================] - 74s 259ms/step - loss: 0.5097 - accuracy: 0.7333 - val_loss: 0.3540 - val_accuracy: 0.8518\n",
            "Epoch 2/5\n",
            "264/264 [==============================] - 64s 243ms/step - loss: 0.3627 - accuracy: 0.8463 - val_loss: 0.3851 - val_accuracy: 0.8305\n",
            "Epoch 3/5\n",
            "264/264 [==============================] - 61s 231ms/step - loss: 0.2590 - accuracy: 0.9007 - val_loss: 0.4124 - val_accuracy: 0.8209\n",
            "Epoch 4/5\n",
            "264/264 [==============================] - 62s 236ms/step - loss: 0.2073 - accuracy: 0.9234 - val_loss: 0.3935 - val_accuracy: 0.8380\n",
            "Epoch 5/5\n",
            "264/264 [==============================] - 62s 236ms/step - loss: 0.1660 - accuracy: 0.9420 - val_loss: 0.4743 - val_accuracy: 0.8380\n"
          ]
        }
      ]
    },
    {
      "cell_type": "code",
      "source": [
        "prediction = model.predict(test_padded)\n",
        "# Get labels based on probability 1 if p>= 0.5 else 0\n",
        "pred_labels = []\n",
        "for i in prediction:\n",
        "    if i >= 0.5:\n",
        "        pred_labels.append(1)\n",
        "    else:\n",
        "        pred_labels.append(0)\n",
        "print(\"Accuracy of prediction on test set : \", accuracy_score(test_labels,pred_labels))\n",
        "#Ideally, it would help prepare the model until the train and test losses converge."
      ],
      "metadata": {
        "colab": {
          "base_uri": "https://localhost:8080/"
        },
        "id": "pKS3bpK7naPa",
        "outputId": "d2ae8163-909c-4a42-9561-f657ab84675d"
      },
      "execution_count": null,
      "outputs": [
        {
          "output_type": "stream",
          "name": "stdout",
          "text": [
            "145/145 [==============================] - 10s 60ms/step\n",
            "Accuracy of prediction on test set :  0.8428571428571429\n"
          ]
        }
      ]
    },
    {
      "cell_type": "markdown",
      "source": [
        "Usamos el modelo ya entrenado para predecir el sentimiento de nuevos reviews.  Para eso, cada nuevo texto tiene que ser tokenizado y padded antes de introducirlo al modelo.  El modelo predice la probabilidad y establecemos que cuando la prob es mayor a 0.5, el sentimiento es positivo, de lo contrario, negativo."
      ],
      "metadata": {
        "id": "q4QgZVc3RqFw"
      }
    },
    {
      "cell_type": "code",
      "source": [
        "# reviews on which we need to predict\n",
        "sentence = [\"The movie was very touching and heart whelming\",\n",
        "            \"I have never seen a terrible movie like this\",\n",
        "            \"the movie plot is terrible but it had good acting\"]\n",
        "# convert to a sequence\n",
        "sequences = tokenizer.texts_to_sequences(sentence)\n",
        "# pad the sequence\n",
        "padded = pad_sequences(sequences, padding='post', maxlen=max_length)\n",
        "# Get labels based on probability 1 if p>= 0.5 else 0\n",
        "prediction = model.predict(padded)\n",
        "pred_labels = []\n",
        "for i in prediction:\n",
        "    if i >= 0.5:\n",
        "        pred_labels.append(1)\n",
        "    else:\n",
        "        pred_labels.append(0)\n",
        "for i in range(len(sentence)):\n",
        "    print(sentence[i])\n",
        "    if pred_labels[i] == 1:\n",
        "        s = 'Positive'\n",
        "    else:\n",
        "        s = 'Negative'\n",
        "    print(\"Predicted sentiment : \",s)"
      ],
      "metadata": {
        "colab": {
          "base_uri": "https://localhost:8080/"
        },
        "id": "01k5HQqnoHaj",
        "outputId": "2ef81b64-4237-4c34-c3ed-74373a359840"
      },
      "execution_count": null,
      "outputs": [
        {
          "output_type": "stream",
          "name": "stdout",
          "text": [
            "1/1 [==============================] - 0s 36ms/step\n",
            "The movie was very touching and heart whelming\n",
            "Predicted sentiment :  Positive\n",
            "I have never seen a terrible movie like this\n",
            "Predicted sentiment :  Negative\n",
            "the movie plot is terrible but it had good acting\n",
            "Predicted sentiment :  Negative\n"
          ]
        }
      ]
    },
    {
      "cell_type": "markdown",
      "source": [
        "##Utilizando Transformers"
      ],
      "metadata": {
        "id": "4bU7zLNazYfE"
      }
    },
    {
      "cell_type": "code",
      "source": [
        "pip install transformers"
      ],
      "metadata": {
        "colab": {
          "base_uri": "https://localhost:8080/"
        },
        "id": "LBJn5N-e33SC",
        "outputId": "167f1dd6-3952-4e1a-f945-ee927f83e3c0"
      },
      "execution_count": null,
      "outputs": [
        {
          "output_type": "stream",
          "name": "stdout",
          "text": [
            "Requirement already satisfied: transformers in /usr/local/lib/python3.10/dist-packages (4.40.0)\n",
            "Requirement already satisfied: filelock in /usr/local/lib/python3.10/dist-packages (from transformers) (3.13.4)\n",
            "Requirement already satisfied: huggingface-hub<1.0,>=0.19.3 in /usr/local/lib/python3.10/dist-packages (from transformers) (0.20.3)\n",
            "Requirement already satisfied: numpy>=1.17 in /usr/local/lib/python3.10/dist-packages (from transformers) (1.25.2)\n",
            "Requirement already satisfied: packaging>=20.0 in /usr/local/lib/python3.10/dist-packages (from transformers) (24.0)\n",
            "Requirement already satisfied: pyyaml>=5.1 in /usr/local/lib/python3.10/dist-packages (from transformers) (6.0.1)\n",
            "Requirement already satisfied: regex!=2019.12.17 in /usr/local/lib/python3.10/dist-packages (from transformers) (2023.12.25)\n",
            "Requirement already satisfied: requests in /usr/local/lib/python3.10/dist-packages (from transformers) (2.31.0)\n",
            "Requirement already satisfied: tokenizers<0.20,>=0.19 in /usr/local/lib/python3.10/dist-packages (from transformers) (0.19.1)\n",
            "Requirement already satisfied: safetensors>=0.4.1 in /usr/local/lib/python3.10/dist-packages (from transformers) (0.4.3)\n",
            "Requirement already satisfied: tqdm>=4.27 in /usr/local/lib/python3.10/dist-packages (from transformers) (4.66.2)\n",
            "Requirement already satisfied: fsspec>=2023.5.0 in /usr/local/lib/python3.10/dist-packages (from huggingface-hub<1.0,>=0.19.3->transformers) (2023.6.0)\n",
            "Requirement already satisfied: typing-extensions>=3.7.4.3 in /usr/local/lib/python3.10/dist-packages (from huggingface-hub<1.0,>=0.19.3->transformers) (4.11.0)\n",
            "Requirement already satisfied: charset-normalizer<4,>=2 in /usr/local/lib/python3.10/dist-packages (from requests->transformers) (3.3.2)\n",
            "Requirement already satisfied: idna<4,>=2.5 in /usr/local/lib/python3.10/dist-packages (from requests->transformers) (3.7)\n",
            "Requirement already satisfied: urllib3<3,>=1.21.1 in /usr/local/lib/python3.10/dist-packages (from requests->transformers) (2.0.7)\n",
            "Requirement already satisfied: certifi>=2017.4.17 in /usr/local/lib/python3.10/dist-packages (from requests->transformers) (2024.2.2)\n"
          ]
        }
      ]
    },
    {
      "cell_type": "code",
      "source": [
        "import transformers"
      ],
      "metadata": {
        "id": "l501cWN_37qG"
      },
      "execution_count": null,
      "outputs": []
    },
    {
      "cell_type": "code",
      "source": [
        "from transformers import pipeline\n",
        "sentiment_pipeline = pipeline(\"sentiment-analysis\")\n",
        "data = [\"It was the best of times.\", \"It was the worst of times.\"]\n",
        "sentiment_pipeline(data)"
      ],
      "metadata": {
        "colab": {
          "base_uri": "https://localhost:8080/"
        },
        "id": "7LbHCuwh3_M-",
        "outputId": "9bb01c2a-85f8-4cb0-bec0-3a8e41113db9"
      },
      "execution_count": null,
      "outputs": [
        {
          "output_type": "stream",
          "name": "stderr",
          "text": [
            "No model was supplied, defaulted to distilbert/distilbert-base-uncased-finetuned-sst-2-english and revision af0f99b (https://huggingface.co/distilbert/distilbert-base-uncased-finetuned-sst-2-english).\n",
            "Using a pipeline without specifying a model name and revision in production is not recommended.\n"
          ]
        },
        {
          "output_type": "execute_result",
          "data": {
            "text/plain": [
              "[{'label': 'POSITIVE', 'score': 0.999457061290741},\n",
              " {'label': 'NEGATIVE', 'score': 0.9997925162315369}]"
            ]
          },
          "metadata": {},
          "execution_count": 51
        }
      ]
    }
  ]
}